{
 "cells": [
  {
   "cell_type": "markdown",
   "metadata": {},
   "source": [
    "# Implements gradient descent on a dataset to find the line of best fit that predicts relation between two variables"
   ]
  },
  {
   "cell_type": "markdown",
   "metadata": {},
   "source": [
    "Dependencies :"
   ]
  },
  {
   "cell_type": "code",
   "execution_count": 1,
   "metadata": {},
   "outputs": [],
   "source": [
    "import numpy as np\n",
    "from matplotlib import pyplot as plt\n",
    "import pandas as pd\n"
   ]
  },
  {
   "cell_type": "markdown",
   "metadata": {},
   "source": [
    "## Dataset\n",
    "For this excercise, <a href=\"https://www.kaggle.com/andonians/random-linear-regression/data\">Linear Regression Dataset</a> has been chosen.\n",
    "\n",
    "The file 'train.csv' contains 700 data pairs (x,y). The x-values are numbers between 0 and 100.\n",
    "Also the 'test.csv' is present to coduct test of model.  \n",
    "But, let's leave the testing of model for some other time.\n"
   ]
  },
  {
   "cell_type": "code",
   "execution_count": 2,
   "metadata": {},
   "outputs": [],
   "source": [
    "dataset = pd.read_csv('train.csv')"
   ]
  },
  {
   "cell_type": "markdown",
   "metadata": {},
   "source": [
    "Here is a sample of how our data looks like."
   ]
  },
  {
   "cell_type": "code",
   "execution_count": 3,
   "metadata": {},
   "outputs": [
    {
     "data": {
      "text/html": [
       "<div>\n",
       "<style scoped>\n",
       "    .dataframe tbody tr th:only-of-type {\n",
       "        vertical-align: middle;\n",
       "    }\n",
       "\n",
       "    .dataframe tbody tr th {\n",
       "        vertical-align: top;\n",
       "    }\n",
       "\n",
       "    .dataframe thead th {\n",
       "        text-align: right;\n",
       "    }\n",
       "</style>\n",
       "<table border=\"1\" class=\"dataframe\">\n",
       "  <thead>\n",
       "    <tr style=\"text-align: right;\">\n",
       "      <th></th>\n",
       "      <th>x</th>\n",
       "      <th>y</th>\n",
       "    </tr>\n",
       "  </thead>\n",
       "  <tbody>\n",
       "    <tr>\n",
       "      <th>0</th>\n",
       "      <td>24.0</td>\n",
       "      <td>21.549452</td>\n",
       "    </tr>\n",
       "    <tr>\n",
       "      <th>1</th>\n",
       "      <td>50.0</td>\n",
       "      <td>47.464463</td>\n",
       "    </tr>\n",
       "    <tr>\n",
       "      <th>2</th>\n",
       "      <td>15.0</td>\n",
       "      <td>17.218656</td>\n",
       "    </tr>\n",
       "    <tr>\n",
       "      <th>3</th>\n",
       "      <td>38.0</td>\n",
       "      <td>36.586398</td>\n",
       "    </tr>\n",
       "    <tr>\n",
       "      <th>4</th>\n",
       "      <td>87.0</td>\n",
       "      <td>87.288984</td>\n",
       "    </tr>\n",
       "  </tbody>\n",
       "</table>\n",
       "</div>"
      ],
      "text/plain": [
       "      x          y\n",
       "0  24.0  21.549452\n",
       "1  50.0  47.464463\n",
       "2  15.0  17.218656\n",
       "3  38.0  36.586398\n",
       "4  87.0  87.288984"
      ]
     },
     "execution_count": 3,
     "metadata": {},
     "output_type": "execute_result"
    }
   ],
   "source": [
    "dataset.head()"
   ]
  },
  {
   "cell_type": "markdown",
   "metadata": {},
   "source": [
    "This data has some outliers, negative values and NaN entries which needs to be cleaned."
   ]
  },
  {
   "cell_type": "code",
   "execution_count": 4,
   "metadata": {},
   "outputs": [],
   "source": [
    "#To remove NaN entries\n",
    "dataset=dataset.dropna()\n",
    "\n",
    "#To remove duplicate entries\n",
    "dataset=dataset.drop_duplicates()\n",
    "\n",
    "#To remove negative values\n",
    "dataset=dataset[dataset.y>=0 ]\n",
    "dataset=dataset[dataset.x>=0]\n",
    "\n",
    "#To remove outliers the proper way is to compute Inter-quartile range but this particular dataset \n",
    "#does not contain any outliers, so we can skip this step."
   ]
  },
  {
   "cell_type": "markdown",
   "metadata": {},
   "source": [
    "**n** is the number of training examples.  \n"
   ]
  },
  {
   "cell_type": "code",
   "execution_count": 5,
   "metadata": {},
   "outputs": [],
   "source": [
    "data = dataset.as_matrix()\n",
    "n = data.shape[0]"
   ]
  },
  {
   "cell_type": "markdown",
   "metadata": {},
   "source": [
    "Now let's visualize our data graphically."
   ]
  },
  {
   "cell_type": "code",
   "execution_count": 6,
   "metadata": {},
   "outputs": [
    {
     "data": {
      "image/png": "[encoded data removed]",
      "text/plain": [
       "<matplotlib.figure.Figure at 0x7f43d0d6fef0>"
      ]
     },
     "metadata": {},
     "output_type": "display_data"
    }
   ],
   "source": [
    "\n",
    "plt.figure(figsize = (8,8))\n",
    "plt.title('X vs Y Scatter Plot')\n",
    "plt.xlabel('X')\n",
    "plt.ylabel('Y')\n",
    "plt.scatter(data[:,0], data[:,1])\n",
    "plt.show()"
   ]
  },
  {
   "cell_type": "markdown",
   "metadata": {},
   "source": [
    "**SSE - Sum of Squared Error**  \n",
    "Now we will write a function to calculate SSE.\n",
    "This function will return Error, which will be used to measure the quality of the fitting line.\n",
    "However it is not involved in the optimization process done by gradient descent.  \n",
    "\n",
    "It will take three arguments **m**, **b** and **data**.  \n",
    "m is the slope of line and b will be y-intercept.\n",
    "data is the dataset used to train the model."
   ]
  },
  {
   "cell_type": "code",
   "execution_count": 7,
   "metadata": {},
   "outputs": [],
   "source": [
    "def SSE(m,b,data):\n",
    "    totalError = 0.0\n",
    "    for i in range(n):\n",
    "        #The current output is y\n",
    "        y=data[i][1]\n",
    "        \n",
    "        #The current input is x\n",
    "        x=data[i][0]\n",
    "        \n",
    "        #Predicted output with our current fitting line\n",
    "        #y=mx+b\n",
    "        currentOutput = m*x+ b\n",
    "        \n",
    "        #Compute squared error\n",
    "        currentSquaredError = (y-currentOutput)**2\n",
    "        \n",
    "        #Adding it to the Total Error\n",
    "        totalError += currentSquaredError\n",
    "\n",
    "    sse = totalError/n\n",
    "\n",
    "    return totalError"
   ]
  },
  {
   "cell_type": "markdown",
   "metadata": {},
   "source": [
    "Let's see SSE function in action.  \n",
    "\n",
    "Consider line  \n",
    "y = 2x + 1"
   ]
  },
  {
   "cell_type": "code",
   "execution_count": 8,
   "metadata": {},
   "outputs": [
    {
     "name": "stdout",
     "output_type": "stream",
     "text": [
      "For the fitting line y = 2x + 1\n",
      "SSE : 2413921.096132\n"
     ]
    }
   ],
   "source": [
    "m=2\n",
    "b=1\n",
    "\n",
    "sse = SSE(m,b,data)\n",
    "print('For the fitting line y = %dx + %d\\nSSE : %.6f' %(m,b,sse))"
   ]
  },
  {
   "cell_type": "markdown",
   "metadata": {},
   "source": [
    "## Gradient Descent\n",
    "Now let's make a function to do repetitive gradient descent to find optimal values of **m** and **b**."
   ]
  },
  {
   "cell_type": "code",
   "execution_count": 9,
   "metadata": {},
   "outputs": [],
   "source": [
    "def gradient_descent(m_initial,b_initial,data,steps=5000):\n",
    "    print('Initial line y = %.6fx + %.6f and Error = %.6f'%(m_initial,b_initial,SSE(m_initial,b_initial,data)))\n",
    "    m = m_initial\n",
    "    b = b_initial\n",
    "    freq=steps//10\n",
    "    \n",
    "    for i in range(steps): #The number of steps gradient descent will take\n",
    "        \n",
    "        if((i) % freq == 0): #Printing parameters at every 100th step.\n",
    "            print('At step %d Line: y = %.6fx + %.6f and Error: %.6f'%(i+1,m,b,SSE(m,b,data)))\n",
    "        \n",
    "        m_grad=0\n",
    "        b_grad=0\n",
    "        for current_row in range(n):\n",
    "            \n",
    "            #Getting data from current row of data\n",
    "            x = data[current_row,0]\n",
    "            y = data[current_row,1]\n",
    "            \n",
    "            #Partial derivative with respect to m\n",
    "            dm = ((2/n) * x * ((m*x + b)-y))\n",
    "            \n",
    "            #Parial derivative with respect to b\n",
    "            db=((2/n) * ((m*x + b)-y))\n",
    "            \n",
    "            #Update gradient\n",
    "            m_grad = m_grad + dm\n",
    "            b_grad = b_grad + db\n",
    "        \n",
    "        #Setting the new updated 'm' and 'b'\n",
    "        m=m-0.0001*m_grad\n",
    "        b=b-0.01*b_grad\n",
    "        \n",
    "        \"\"\"\n",
    "        Here 0.0001 and 0.0003 are the learning rates of gradient descent \n",
    "        Their values are chosen after some trial and error to minimize\n",
    "        the number of steps taken by gradient descent to reach optimal \n",
    "        value for parameters and at the same time prevent overshooting.\n",
    "        \"\"\"\n",
    "    print('Best fitting line: y = %.6fx + %.6f Error : %.6f'%(m,b,SSE(m,b,data)))           \n",
    "    return m,b"
   ]
  },
  {
   "cell_type": "markdown",
   "metadata": {},
   "source": [
    "## Training\n",
    "Now we will do gradient descent to find the optimal values for m and b.  \n",
    "  \n",
    "Consider the line y = 0.5x + 2 as our initial fitting line.  \n",
    "Here m = 0.5 and b = 2.  \n",
    "Initially the graph will look like."
   ]
  },
  {
   "cell_type": "code",
   "execution_count": 10,
   "metadata": {},
   "outputs": [
    {
     "data": {
      "image/png": "[encoded data removed]",
      "text/plain": [
       "<matplotlib.figure.Figure at 0x7f43ceccc780>"
      ]
     },
     "metadata": {},
     "output_type": "display_data"
    }
   ],
   "source": [
    "m = 0.5\n",
    "b = 2\n",
    "plt.figure(figsize= (8, 8))\n",
    "plt.scatter(data[:,0], data[:,1])\n",
    "plt.xlabel(\"x\")\n",
    "plt.ylabel('Y')\n",
    "plt.plot(data[:,0], m*data[:,0] + b,color=\"red\")\n",
    "plt.show()"
   ]
  },
  {
   "cell_type": "markdown",
   "metadata": {},
   "source": [
    "Applying **Gradient Descent**"
   ]
  },
  {
   "cell_type": "code",
   "execution_count": 11,
   "metadata": {},
   "outputs": [
    {
     "name": "stdout",
     "output_type": "stream",
     "text": [
      "Initial line y = 0.500000x + 2.000000 and Error = 519573.363648\n",
      "At step 1 Line: y = 0.500000x + 2.000000 and Error: 519573.363648\n",
      "At step 501 Line: y = 0.994297x + 0.317615 and Error: 5370.861164\n",
      "At step 1001 Line: y = 0.997648x + 0.095363 and Error: 5360.923060\n",
      "At step 1501 Line: y = 0.997962x + 0.074554 and Error: 5360.835941\n",
      "At step 2001 Line: y = 0.997991x + 0.072605 and Error: 5360.835178\n",
      "At step 2501 Line: y = 0.997994x + 0.072423 and Error: 5360.835171\n",
      "At step 3001 Line: y = 0.997994x + 0.072406 and Error: 5360.835171\n",
      "At step 3501 Line: y = 0.997994x + 0.072404 and Error: 5360.835171\n",
      "At step 4001 Line: y = 0.997994x + 0.072404 and Error: 5360.835171\n",
      "At step 4501 Line: y = 0.997994x + 0.072404 and Error: 5360.835171\n",
      "Best fitting line: y = 0.997994x + 0.072404 Error : 5360.835171\n"
     ]
    }
   ],
   "source": [
    "m,b=gradient_descent(m,b,data)"
   ]
  },
  {
   "cell_type": "markdown",
   "metadata": {},
   "source": [
    "Let's see how our best fitting line looks like."
   ]
  },
  {
   "cell_type": "code",
   "execution_count": 12,
   "metadata": {},
   "outputs": [
    {
     "data": {
      "image/png": "[encoded data removed]",
      "text/plain": [
       "<matplotlib.figure.Figure at 0x7f43ceb43e48>"
      ]
     },
     "metadata": {},
     "output_type": "display_data"
    }
   ],
   "source": [
    "plt.figure(figsize= (8, 8))\n",
    "plt.scatter(data[:,0], data[:,1])\n",
    "plt.xlabel('x')\n",
    "plt.ylabel('Y')\n",
    "plt.plot(data[:,0], m*data[:,0] + b,color=\"red\",)\n",
    "plt.show()"
   ]
  },
  {
   "cell_type": "markdown",
   "metadata": {},
   "source": [
    "Above plot indicates that the line fits the data very well.  \n",
    "  \n",
    "  \n",
    "# EON\n",
    "(End of Notebook)  \n",
    "Sagar Gupta - Originally uploaded to <a href=\"https://github.com/sagar-june97p/machine-learning\">Github</a>"
   ]
  }
 ],
 "metadata": {
  "kernelspec": {
   "display_name": "Python 3",
   "language": "python",
   "name": "python3"
  },
  "language_info": {
   "codemirror_mode": {
    "name": "ipython",
    "version": 3
   },
   "file_extension": ".py",
   "mimetype": "text/x-python",
   "name": "python",
   "nbconvert_exporter": "python",
   "pygments_lexer": "ipython3",
   "version": "3.6.3"
  }
 },
 "nbformat": 4,
 "nbformat_minor": 2
}
