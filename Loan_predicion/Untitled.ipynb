{
 "cells": [
  {
   "cell_type": "code",
   "execution_count": 2,
   "metadata": {},
   "outputs": [],
   "source": [
    "import warnings\n",
    "warnings.filterwarnings('ignore')\n",
    "\n",
    "# Data processing and manipulation\n",
    "import numpy as np\n",
    "import pandas as pd\n",
    "\n",
    "# Data visualization\n",
    "import matplotlib as mpl\n",
    "import matplotlib.pyplot as plt\n",
    "import matplotlib.pylab as plb\n",
    "import seaborn as sns\n",
    "\n",
    "# Configure visualization\n",
    "%matplotlib inline\n",
    "plb.rcParams['figure.figsize'] = 10, 8\n",
    "mpl.style.use('ggplot')\n",
    "sns.set_style('white')\n",
    "\n",
    "# Models\n",
    "from sklearn.linear_model import LogisticRegression\n",
    "from sklearn.tree import DecisionTreeClassifier\n",
    "from sklearn.svm import SVC\n",
    "from sklearn.ensemble import RandomForestClassifier, GradientBoostingClassifier, AdaBoostClassifier\n",
    "from xgboost import XGBClassifier\n",
    "from sklearn.naive_bayes import GaussianNB\n",
    "from sklearn.neighbors import KNeighborsClassifier\n",
    "\n",
    "# Accuracy Metrics\n",
    "from sklearn.metrics import accuracy_score\n",
    "from sklearn.model_selection import KFold, StratifiedKFold\n",
    "from sklearn.metrics import confusion_matrix, roc_curve, roc_auc_score\n",
    "\n",
    "from sklearn.preprocessing import LabelEncoder"
   ]
  },
  {
   "cell_type": "code",
   "execution_count": 3,
   "metadata": {},
   "outputs": [
    {
     "name": "stdout",
     "output_type": "stream",
     "text": [
      "        ApplicantIncome  CoapplicantIncome  Credit_History Dependents  \\\n",
      "count        981.000000         981.000000      902.000000        956   \n",
      "unique              NaN                NaN             NaN          4   \n",
      "top                 NaN                NaN             NaN          0   \n",
      "freq                NaN                NaN             NaN        545   \n",
      "mean        5179.795107        1601.916330        0.835920        NaN   \n",
      "std         5695.104533        2718.772806        0.370553        NaN   \n",
      "min            0.000000           0.000000        0.000000        NaN   \n",
      "25%         2875.000000           0.000000        1.000000        NaN   \n",
      "50%         3800.000000        1110.000000        1.000000        NaN   \n",
      "75%         5516.000000        2365.000000        1.000000        NaN   \n",
      "max        81000.000000       41667.000000        1.000000        NaN   \n",
      "\n",
      "       Education Gender  LoanAmount  Loan_Amount_Term   Loan_ID Loan_Status  \\\n",
      "count        981    957  954.000000        961.000000       981         614   \n",
      "unique         2      2         NaN               NaN       981           2   \n",
      "top     Graduate   Male         NaN               NaN  LP001923           Y   \n",
      "freq         763    775         NaN               NaN         1         422   \n",
      "mean         NaN    NaN  142.511530        342.201873       NaN         NaN   \n",
      "std          NaN    NaN   77.421743         65.100602       NaN         NaN   \n",
      "min          NaN    NaN    9.000000          6.000000       NaN         NaN   \n",
      "25%          NaN    NaN  100.000000        360.000000       NaN         NaN   \n",
      "50%          NaN    NaN  126.000000        360.000000       NaN         NaN   \n",
      "75%          NaN    NaN  162.000000        360.000000       NaN         NaN   \n",
      "max          NaN    NaN  700.000000        480.000000       NaN         NaN   \n",
      "\n",
      "       Married Property_Area Self_Employed  \n",
      "count      978           981           926  \n",
      "unique       2             3             2  \n",
      "top        Yes     Semiurban            No  \n",
      "freq       631           349           807  \n",
      "mean       NaN           NaN           NaN  \n",
      "std        NaN           NaN           NaN  \n",
      "min        NaN           NaN           NaN  \n",
      "25%        NaN           NaN           NaN  \n",
      "50%        NaN           NaN           NaN  \n",
      "75%        NaN           NaN           NaN  \n",
      "max        NaN           NaN           NaN  \n"
     ]
    }
   ],
   "source": [
    "train = pd.read_csv('train.csv')\n",
    "test = pd.read_csv('test.csv')\n",
    "full = pd.concat([train,test], axis = 0)\n",
    "print(full.describe(include = [int, float, object]))"
   ]
  },
  {
   "cell_type": "code",
   "execution_count": 56,
   "metadata": {},
   "outputs": [
    {
     "data": {
      "text/html": [
       "<div>\n",
       "<style scoped>\n",
       "    .dataframe tbody tr th:only-of-type {\n",
       "        vertical-align: middle;\n",
       "    }\n",
       "\n",
       "    .dataframe tbody tr th {\n",
       "        vertical-align: top;\n",
       "    }\n",
       "\n",
       "    .dataframe thead th {\n",
       "        text-align: right;\n",
       "    }\n",
       "</style>\n",
       "<table border=\"1\" class=\"dataframe\">\n",
       "  <thead>\n",
       "    <tr style=\"text-align: right;\">\n",
       "      <th></th>\n",
       "      <th>ApplicantIncome</th>\n",
       "      <th>CoapplicantIncome</th>\n",
       "      <th>Credit_History</th>\n",
       "      <th>Dependents</th>\n",
       "      <th>Education</th>\n",
       "      <th>Gender</th>\n",
       "      <th>LoanAmount</th>\n",
       "      <th>Loan_Amount_Term</th>\n",
       "      <th>Loan_ID</th>\n",
       "      <th>Loan_Status</th>\n",
       "      <th>Married</th>\n",
       "      <th>Property_Area</th>\n",
       "      <th>Self_Employed</th>\n",
       "    </tr>\n",
       "  </thead>\n",
       "  <tbody>\n",
       "    <tr>\n",
       "      <th>0</th>\n",
       "      <td>5849</td>\n",
       "      <td>0.0</td>\n",
       "      <td>1.0</td>\n",
       "      <td>0</td>\n",
       "      <td>Graduate</td>\n",
       "      <td>Male</td>\n",
       "      <td>NaN</td>\n",
       "      <td>360.0</td>\n",
       "      <td>LP001002</td>\n",
       "      <td>1</td>\n",
       "      <td>No</td>\n",
       "      <td>Urban</td>\n",
       "      <td>No</td>\n",
       "    </tr>\n",
       "    <tr>\n",
       "      <th>1</th>\n",
       "      <td>4583</td>\n",
       "      <td>1508.0</td>\n",
       "      <td>1.0</td>\n",
       "      <td>1</td>\n",
       "      <td>Graduate</td>\n",
       "      <td>Male</td>\n",
       "      <td>128.0</td>\n",
       "      <td>360.0</td>\n",
       "      <td>LP001003</td>\n",
       "      <td>0</td>\n",
       "      <td>Yes</td>\n",
       "      <td>Rural</td>\n",
       "      <td>No</td>\n",
       "    </tr>\n",
       "    <tr>\n",
       "      <th>2</th>\n",
       "      <td>3000</td>\n",
       "      <td>0.0</td>\n",
       "      <td>1.0</td>\n",
       "      <td>0</td>\n",
       "      <td>Graduate</td>\n",
       "      <td>Male</td>\n",
       "      <td>66.0</td>\n",
       "      <td>360.0</td>\n",
       "      <td>LP001005</td>\n",
       "      <td>1</td>\n",
       "      <td>Yes</td>\n",
       "      <td>Urban</td>\n",
       "      <td>Yes</td>\n",
       "    </tr>\n",
       "    <tr>\n",
       "      <th>3</th>\n",
       "      <td>2583</td>\n",
       "      <td>2358.0</td>\n",
       "      <td>1.0</td>\n",
       "      <td>0</td>\n",
       "      <td>Not Graduate</td>\n",
       "      <td>Male</td>\n",
       "      <td>120.0</td>\n",
       "      <td>360.0</td>\n",
       "      <td>LP001006</td>\n",
       "      <td>1</td>\n",
       "      <td>Yes</td>\n",
       "      <td>Urban</td>\n",
       "      <td>No</td>\n",
       "    </tr>\n",
       "    <tr>\n",
       "      <th>4</th>\n",
       "      <td>6000</td>\n",
       "      <td>0.0</td>\n",
       "      <td>1.0</td>\n",
       "      <td>0</td>\n",
       "      <td>Graduate</td>\n",
       "      <td>Male</td>\n",
       "      <td>141.0</td>\n",
       "      <td>360.0</td>\n",
       "      <td>LP001008</td>\n",
       "      <td>1</td>\n",
       "      <td>No</td>\n",
       "      <td>Urban</td>\n",
       "      <td>No</td>\n",
       "    </tr>\n",
       "  </tbody>\n",
       "</table>\n",
       "</div>"
      ],
      "text/plain": [
       "   ApplicantIncome  CoapplicantIncome  Credit_History Dependents  \\\n",
       "0             5849                0.0             1.0          0   \n",
       "1             4583             1508.0             1.0          1   \n",
       "2             3000                0.0             1.0          0   \n",
       "3             2583             2358.0             1.0          0   \n",
       "4             6000                0.0             1.0          0   \n",
       "\n",
       "      Education Gender  LoanAmount  Loan_Amount_Term   Loan_ID Loan_Status  \\\n",
       "0      Graduate   Male         NaN             360.0  LP001002           1   \n",
       "1      Graduate   Male       128.0             360.0  LP001003           0   \n",
       "2      Graduate   Male        66.0             360.0  LP001005           1   \n",
       "3  Not Graduate   Male       120.0             360.0  LP001006           1   \n",
       "4      Graduate   Male       141.0             360.0  LP001008           1   \n",
       "\n",
       "  Married Property_Area Self_Employed  \n",
       "0      No         Urban            No  \n",
       "1     Yes         Rural            No  \n",
       "2     Yes         Urban           Yes  \n",
       "3     Yes         Urban            No  \n",
       "4      No         Urban            No  "
      ]
     },
     "execution_count": 56,
     "metadata": {},
     "output_type": "execute_result"
    }
   ],
   "source": [
    "full.head()"
   ]
  },
  {
   "cell_type": "code",
   "execution_count": 57,
   "metadata": {},
   "outputs": [
    {
     "name": "stdout",
     "output_type": "stream",
     "text": [
      "<class 'pandas.core.frame.DataFrame'>\n",
      "RangeIndex: 614 entries, 0 to 613\n",
      "Data columns (total 13 columns):\n",
      "Loan_ID              614 non-null object\n",
      "Gender               601 non-null object\n",
      "Married              611 non-null object\n",
      "Dependents           599 non-null object\n",
      "Education            614 non-null object\n",
      "Self_Employed        582 non-null object\n",
      "ApplicantIncome      614 non-null int64\n",
      "CoapplicantIncome    614 non-null float64\n",
      "LoanAmount           592 non-null float64\n",
      "Loan_Amount_Term     600 non-null float64\n",
      "Credit_History       564 non-null float64\n",
      "Property_Area        614 non-null object\n",
      "Loan_Status          614 non-null object\n",
      "dtypes: float64(4), int64(1), object(8)\n",
      "memory usage: 62.4+ KB\n",
      "None\n"
     ]
    }
   ],
   "source": [
    "print(train.info())"
   ]
  },
  {
   "cell_type": "code",
   "execution_count": 58,
   "metadata": {},
   "outputs": [
    {
     "data": {
      "image/png": "[encoded data removed]",
      "text/plain": [
       "<matplotlib.figure.Figure at 0x7fd0a5359518>"
      ]
     },
     "metadata": {},
     "output_type": "display_data"
    }
   ],
   "source": [
    "status = full.Loan_Status\n",
    "status[status == 'Y'] = 2\n",
    "status[status == 'N'] = 5\n",
    "status[status == np.nan] = 999\n",
    "plt.scatter(x = full.ApplicantIncome, y = full.CoapplicantIncome, c = full.Loan_Status.reshape(-1))\n",
    "plt.legend()\n",
    "plt.show()\n"
   ]
  },
  {
   "cell_type": "code",
   "execution_count": 5,
   "metadata": {},
   "outputs": [
    {
     "data": {
      "text/plain": [
       "Index(['ApplicantIncome', 'CoapplicantIncome', 'Credit_History', 'Dependents',\n",
       "       'Education', 'Gender', 'LoanAmount', 'Loan_Amount_Term', 'Loan_ID',\n",
       "       'Loan_Status', 'Married', 'Property_Area', 'Self_Employed'],\n",
       "      dtype='object')"
      ]
     },
     "execution_count": 5,
     "metadata": {},
     "output_type": "execute_result"
    }
   ],
   "source": [
    "full.columns"
   ]
  },
  {
   "cell_type": "markdown",
   "metadata": {},
   "source": [
    "##### Imputing the quantitative variables with median values."
   ]
  },
  {
   "cell_type": "code",
   "execution_count": 6,
   "metadata": {},
   "outputs": [],
   "source": [
    "full.Loan_Amount_Term.fillna(full.Loan_Amount_Term.median(), inplace = True)\n",
    "full.LoanAmount.fillna(full.LoanAmount.median(), inplace = True)"
   ]
  },
  {
   "cell_type": "markdown",
   "metadata": {},
   "source": [
    "### Manually encoding the nominal and ordinal variables."
   ]
  },
  {
   "cell_type": "markdown",
   "metadata": {},
   "source": [
    "##### Imputing the categorical variables with most common response"
   ]
  },
  {
   "cell_type": "code",
   "execution_count": 7,
   "metadata": {},
   "outputs": [],
   "source": [
    "full.Gender.fillna('Male', inplace = True)\n",
    "full.Dependents.fillna('0', inplace = True)\n",
    "full.Credit_History.fillna(1, inplace = True)\n",
    "full.Self_Employed.fillna('No', inplace = True)\n",
    "full.Married.fillna('Yes', inplace = True)\n",
    "train = full.iloc[:614,:]\n",
    "test = full.iloc[614:, :]"
   ]
  },
  {
   "cell_type": "markdown",
   "metadata": {},
   "source": [
    "## Feature Engineering"
   ]
  },
  {
   "cell_type": "code",
   "execution_count": 8,
   "metadata": {},
   "outputs": [
    {
     "data": {
      "text/html": [
       "<div>\n",
       "<style scoped>\n",
       "    .dataframe tbody tr th:only-of-type {\n",
       "        vertical-align: middle;\n",
       "    }\n",
       "\n",
       "    .dataframe tbody tr th {\n",
       "        vertical-align: top;\n",
       "    }\n",
       "\n",
       "    .dataframe thead th {\n",
       "        text-align: right;\n",
       "    }\n",
       "</style>\n",
       "<table border=\"1\" class=\"dataframe\">\n",
       "  <thead>\n",
       "    <tr style=\"text-align: right;\">\n",
       "      <th></th>\n",
       "      <th>ApplicantIncome</th>\n",
       "      <th>CoapplicantIncome</th>\n",
       "      <th>Credit_History</th>\n",
       "      <th>Dependents</th>\n",
       "      <th>Education</th>\n",
       "      <th>Gender</th>\n",
       "      <th>LoanAmount</th>\n",
       "      <th>Loan_Amount_Term</th>\n",
       "      <th>Loan_ID</th>\n",
       "      <th>Loan_Status</th>\n",
       "      <th>Married</th>\n",
       "      <th>Property_Area</th>\n",
       "      <th>Self_Employed</th>\n",
       "      <th>TotalIncome</th>\n",
       "      <th>IncomeDebtRatio</th>\n",
       "    </tr>\n",
       "  </thead>\n",
       "  <tbody>\n",
       "    <tr>\n",
       "      <th>0</th>\n",
       "      <td>5849</td>\n",
       "      <td>0.0</td>\n",
       "      <td>1.0</td>\n",
       "      <td>0</td>\n",
       "      <td>Graduate</td>\n",
       "      <td>Male</td>\n",
       "      <td>126.0</td>\n",
       "      <td>360.0</td>\n",
       "      <td>LP001002</td>\n",
       "      <td>Y</td>\n",
       "      <td>No</td>\n",
       "      <td>Urban</td>\n",
       "      <td>No</td>\n",
       "      <td>5849.0</td>\n",
       "      <td>46.420635</td>\n",
       "    </tr>\n",
       "    <tr>\n",
       "      <th>1</th>\n",
       "      <td>4583</td>\n",
       "      <td>1508.0</td>\n",
       "      <td>1.0</td>\n",
       "      <td>1</td>\n",
       "      <td>Graduate</td>\n",
       "      <td>Male</td>\n",
       "      <td>128.0</td>\n",
       "      <td>360.0</td>\n",
       "      <td>LP001003</td>\n",
       "      <td>N</td>\n",
       "      <td>Yes</td>\n",
       "      <td>Rural</td>\n",
       "      <td>No</td>\n",
       "      <td>6091.0</td>\n",
       "      <td>47.585938</td>\n",
       "    </tr>\n",
       "    <tr>\n",
       "      <th>2</th>\n",
       "      <td>3000</td>\n",
       "      <td>0.0</td>\n",
       "      <td>1.0</td>\n",
       "      <td>0</td>\n",
       "      <td>Graduate</td>\n",
       "      <td>Male</td>\n",
       "      <td>66.0</td>\n",
       "      <td>360.0</td>\n",
       "      <td>LP001005</td>\n",
       "      <td>Y</td>\n",
       "      <td>Yes</td>\n",
       "      <td>Urban</td>\n",
       "      <td>Yes</td>\n",
       "      <td>3000.0</td>\n",
       "      <td>45.454545</td>\n",
       "    </tr>\n",
       "    <tr>\n",
       "      <th>3</th>\n",
       "      <td>2583</td>\n",
       "      <td>2358.0</td>\n",
       "      <td>1.0</td>\n",
       "      <td>0</td>\n",
       "      <td>Not Graduate</td>\n",
       "      <td>Male</td>\n",
       "      <td>120.0</td>\n",
       "      <td>360.0</td>\n",
       "      <td>LP001006</td>\n",
       "      <td>Y</td>\n",
       "      <td>Yes</td>\n",
       "      <td>Urban</td>\n",
       "      <td>No</td>\n",
       "      <td>4941.0</td>\n",
       "      <td>41.175000</td>\n",
       "    </tr>\n",
       "    <tr>\n",
       "      <th>4</th>\n",
       "      <td>6000</td>\n",
       "      <td>0.0</td>\n",
       "      <td>1.0</td>\n",
       "      <td>0</td>\n",
       "      <td>Graduate</td>\n",
       "      <td>Male</td>\n",
       "      <td>141.0</td>\n",
       "      <td>360.0</td>\n",
       "      <td>LP001008</td>\n",
       "      <td>Y</td>\n",
       "      <td>No</td>\n",
       "      <td>Urban</td>\n",
       "      <td>No</td>\n",
       "      <td>6000.0</td>\n",
       "      <td>42.553191</td>\n",
       "    </tr>\n",
       "  </tbody>\n",
       "</table>\n",
       "</div>"
      ],
      "text/plain": [
       "   ApplicantIncome  CoapplicantIncome  Credit_History Dependents  \\\n",
       "0             5849                0.0             1.0          0   \n",
       "1             4583             1508.0             1.0          1   \n",
       "2             3000                0.0             1.0          0   \n",
       "3             2583             2358.0             1.0          0   \n",
       "4             6000                0.0             1.0          0   \n",
       "\n",
       "      Education Gender  LoanAmount  Loan_Amount_Term   Loan_ID Loan_Status  \\\n",
       "0      Graduate   Male       126.0             360.0  LP001002           Y   \n",
       "1      Graduate   Male       128.0             360.0  LP001003           N   \n",
       "2      Graduate   Male        66.0             360.0  LP001005           Y   \n",
       "3  Not Graduate   Male       120.0             360.0  LP001006           Y   \n",
       "4      Graduate   Male       141.0             360.0  LP001008           Y   \n",
       "\n",
       "  Married Property_Area Self_Employed  TotalIncome  IncomeDebtRatio  \n",
       "0      No         Urban            No       5849.0        46.420635  \n",
       "1     Yes         Rural            No       6091.0        47.585938  \n",
       "2     Yes         Urban           Yes       3000.0        45.454545  \n",
       "3     Yes         Urban            No       4941.0        41.175000  \n",
       "4      No         Urban            No       6000.0        42.553191  "
      ]
     },
     "execution_count": 8,
     "metadata": {},
     "output_type": "execute_result"
    }
   ],
   "source": [
    "full['TotalIncome'] = full.ApplicantIncome + full.CoapplicantIncome\n",
    "full['IncomeDebtRatio'] = full.TotalIncome / full.LoanAmount\n",
    "train = full.iloc[:614,:]\n",
    "test = full.iloc[614:, :]\n",
    "full.head()"
   ]
  },
  {
   "cell_type": "code",
   "execution_count": 98,
   "metadata": {},
   "outputs": [],
   "source": [
    "def model_classifier(model,X, y):\n",
    "    #Fitting the model with training data\n",
    "    model.fit(X, y)\n",
    "    \n",
    "    #Calculating the Train Accuracy:\n",
    "    train_predict = model.predict(X)\n",
    "    print('Train Accurcay Score : ', accuracy_score(y, train_predict))\n",
    "    \n",
    "    #Calculating the cross validation score\n",
    "    kfold = StratifiedKFold(n_splits = 4)\n",
    "    scores = []\n",
    "    \n",
    "    # Performing K Fold Cross validation test.\n",
    "    for train_index, test_index in kfold.split(X, y):\n",
    "        model.fit(X.iloc[train_index,:], y.iloc[train_index,:])\n",
    "        prediction = model.predict(X.iloc[test_index, :])\n",
    "        scores.append(accuracy_score(y.iloc[test_index, :], prediction))\n",
    "    \n",
    "    #Printing the K Fold validation score\n",
    "    print('\\nKFold Score : ', np.mean(scores))\n",
    "    \n",
    "    # Since this is a classification problem \n",
    "    # Printing the confusion matrix\n",
    "    conf_mat = confusion_matrix(y.iloc[test_index,:], prediction)\n",
    "    print('\\nConfusion Matrix')\n",
    "    print(conf_mat)\n",
    "    \n",
    "\n",
    "    # print('\\nProportioanl confusion_matrix\\n')\n",
    "    # print(conf_mat/conf_mat[:].sum())    \n",
    "    \n",
    "    # Print the ROC-AUC score\n",
    "    # y_test_series = \n",
    "    # label_encoder = LabelEncoder()\n",
    "    # label_encoder.fit(y_test_series)\n",
    "    # y_test_series = label_encoder.transform(y_test_series)\n",
    "    # pd.Series(y.iloc[test_index,:])\n",
    "    # print('ROC-AUC Score ',roc_auc_score(y_test_series\n",
    "    #                                    , model.decision_function(X.iloc[test_index,:])))    "
   ]
  },
  {
   "cell_type": "code",
   "execution_count": 10,
   "metadata": {},
   "outputs": [],
   "source": [
    "features = ['Credit_History','Dependents',\n",
    "       'Education', 'LoanAmount', 'Loan_Amount_Term', \n",
    "       'Married', 'Property_Area', \n",
    "       'TotalIncome', 'IncomeDebtRatio']\n",
    "response = ['Loan_Status']\n",
    "X = pd.get_dummies(train[features])\n",
    "y = train[response]\n",
    "\n",
    "from sklearn.preprocessing import LabelEncoder\n",
    "encoder = LabelEncoder()\n",
    "y_labelled = encoder.fit_transform(y)\n",
    "# Unused features\n",
    "# 'ApplicantIncome', 'CoapplicantIncome',"
   ]
  },
  {
   "cell_type": "markdown",
   "metadata": {},
   "source": [
    "### Trying different Classification Models."
   ]
  },
  {
   "cell_type": "markdown",
   "metadata": {},
   "source": [
    "#### Logistic Regression"
   ]
  },
  {
   "cell_type": "code",
   "execution_count": 11,
   "metadata": {},
   "outputs": [
    {
     "name": "stdout",
     "output_type": "stream",
     "text": [
      "Train Accurcay Score :  0.8078175895765473\n",
      "\n",
      "KFold Score :  0.807879212290977\n",
      "\n",
      "Confusion Matrix\n",
      "[[ 24  24]\n",
      " [  2 103]]\n"
     ]
    }
   ],
   "source": [
    "logistic = LogisticRegression()\n",
    "model_classifier(logistic, X, y)"
   ]
  },
  {
   "cell_type": "markdown",
   "metadata": {},
   "source": [
    "#### Decision Tree Classifier"
   ]
  },
  {
   "cell_type": "code",
   "execution_count": 12,
   "metadata": {},
   "outputs": [
    {
     "name": "stdout",
     "output_type": "stream",
     "text": [
      "Train Accurcay Score :  1.0\n",
      "\n",
      "KFold Score :  0.6938396570749511\n",
      "\n",
      "Confusion Matrix\n",
      "[[21 27]\n",
      " [24 81]]\n"
     ]
    }
   ],
   "source": [
    "decisiontree = DecisionTreeClassifier()\n",
    "model_classifier(decisiontree, X, y)"
   ]
  },
  {
   "cell_type": "markdown",
   "metadata": {},
   "source": [
    "#### Naive Bayes"
   ]
  },
  {
   "cell_type": "code",
   "execution_count": 13,
   "metadata": {
    "scrolled": true
   },
   "outputs": [
    {
     "name": "stdout",
     "output_type": "stream",
     "text": [
      "Train Accurcay Score :  0.8029315960912052\n",
      "\n",
      "KFold Score :  0.7866692131398014\n",
      "\n",
      "Confusion Matrix\n",
      "[[28 20]\n",
      " [12 93]]\n"
     ]
    }
   ],
   "source": [
    "bayes = GaussianNB()\n",
    "model_classifier(bayes, X, y)"
   ]
  },
  {
   "cell_type": "markdown",
   "metadata": {},
   "source": [
    "#### K Nearest Neighbors \n"
   ]
  },
  {
   "cell_type": "code",
   "execution_count": 14,
   "metadata": {},
   "outputs": [
    {
     "name": "stdout",
     "output_type": "stream",
     "text": [
      "Train Accurcay Score :  1.0\n",
      "\n",
      "KFold Score :  0.5651472710296239\n",
      "\n",
      "Confusion Matrix\n",
      "[[17 31]\n",
      " [29 76]]\n"
     ]
    }
   ],
   "source": [
    "knn = KNeighborsClassifier(n_neighbors = 1)\n",
    "model_classifier(knn, X, y)"
   ]
  },
  {
   "cell_type": "markdown",
   "metadata": {},
   "source": [
    "#### Random Forest Classifier"
   ]
  },
  {
   "cell_type": "code",
   "execution_count": 15,
   "metadata": {
    "scrolled": true
   },
   "outputs": [
    {
     "name": "stdout",
     "output_type": "stream",
     "text": [
      "Train Accurcay Score :  0.993485342019544\n",
      "\n",
      "KFold Score :  0.750901875901876\n",
      "\n",
      "Confusion Matrix\n",
      "[[24 24]\n",
      " [19 86]]\n"
     ]
    },
    {
     "data": {
      "text/plain": [
       "array([0.23426143, 0.17109494, 0.02891214, 0.17919994, 0.22673437,\n",
       "       0.01328212, 0.01459609, 0.01105066, 0.01189087, 0.00815558,\n",
       "       0.01230374, 0.01483926, 0.01918325, 0.02157318, 0.02002297,\n",
       "       0.01289945])"
      ]
     },
     "execution_count": 15,
     "metadata": {},
     "output_type": "execute_result"
    }
   ],
   "source": [
    "randomforest = RandomForestClassifier()\n",
    "model_classifier(randomforest, X, y)\n",
    "randomforest.feature_importances_"
   ]
  },
  {
   "cell_type": "markdown",
   "metadata": {},
   "source": [
    "#### Support Vector Classifier \n"
   ]
  },
  {
   "cell_type": "code",
   "execution_count": 16,
   "metadata": {},
   "outputs": [
    {
     "name": "stdout",
     "output_type": "stream",
     "text": [
      "Train Accurcay Score :  0.8094462540716613\n",
      "\n",
      "KFold Score :  0.8095025889143536\n",
      "\n",
      "Confusion Matrix\n",
      "[[ 23  25]\n",
      " [  1 104]]\n"
     ]
    }
   ],
   "source": [
    "from sklearn.preprocessing import MinMaxScaler\n",
    "scaler = MinMaxScaler()\n",
    "X_scaled = scaler.fit_transform(X)\n",
    "X_scaled = pd.DataFrame(X_scaled, columns= X.columns)\n",
    "svclassifier = SVC()\n",
    "model_classifier(svclassifier, X_scaled, y)"
   ]
  },
  {
   "cell_type": "code",
   "execution_count": null,
   "metadata": {},
   "outputs": [],
   "source": []
  },
  {
   "cell_type": "markdown",
   "metadata": {},
   "source": [
    "## Principal Component Analysis"
   ]
  },
  {
   "cell_type": "code",
   "execution_count": 65,
   "metadata": {},
   "outputs": [
    {
     "name": "stdout",
     "output_type": "stream",
     "text": [
      "PCA(copy=True, iterated_power='auto', n_components=16, random_state=None,\n",
      "  svd_solver='auto', tol=0.0, whiten=False)\n"
     ]
    }
   ],
   "source": [
    "from sklearn.decomposition import PCA\n",
    "from sklearn.preprocessing import StandardScaler\n",
    "pca = PCA(n_components=16)\n",
    "X_normailesed = StandardScaler().fit_transform(X)\n",
    "pca.fit(X_normailesed)\n",
    "print(pca)\n",
    "X_pca = pca.transform(X_normailesed)"
   ]
  },
  {
   "cell_type": "code",
   "execution_count": 35,
   "metadata": {
    "scrolled": false
   },
   "outputs": [
    {
     "data": {
      "image/png": "[encoded data removed]",
      "text/plain": [
       "<matplotlib.figure.Figure at 0x7f8db556b748>"
      ]
     },
     "metadata": {},
     "output_type": "display_data"
    }
   ],
   "source": [
    "plt.figure(figsize= (8,8))\n",
    "plt.scatter(X_pca[:,4],X_pca[:,5], c = y_labelled, edgecolors='red')\n",
    "plt.xlabel('First Principal Component')\n",
    "plt.ylabel('Second Principal Component')\n",
    "plt.legend(['No', 'Yes'])\n",
    "plt.show()"
   ]
  },
  {
   "cell_type": "code",
   "execution_count": 26,
   "metadata": {},
   "outputs": [
    {
     "data": {
      "text/plain": [
       "array([[ 1.30922152e-04,  2.42362039e-01, -1.20268896e-01,\n",
       "         2.07892315e-01,  2.31087039e-02, -4.48540567e-01,\n",
       "         1.92526064e-01,  2.61742126e-01,  1.89191139e-01,\n",
       "         4.42850966e-02, -4.42850966e-02, -5.17126851e-01,\n",
       "         5.17126851e-01, -2.85344949e-02, -2.37310243e-03,\n",
       "         3.00514455e-02],\n",
       "       [ 7.78288911e-02,  2.60072954e-01,  6.57270602e-02,\n",
       "         3.40864687e-01,  2.15297789e-01,  9.75224998e-02,\n",
       "         2.14223097e-03, -1.12353879e-01, -2.59954927e-02,\n",
       "         5.91249036e-01, -5.91249036e-01,  1.05930581e-01,\n",
       "        -1.05930581e-01, -1.01097817e-01,  5.83854651e-02,\n",
       "         3.74881917e-02]])"
      ]
     },
     "execution_count": 26,
     "metadata": {},
     "output_type": "execute_result"
    }
   ],
   "source": [
    "(pca.components_)"
   ]
  },
  {
   "cell_type": "markdown",
   "metadata": {},
   "source": [
    "### Trying to train svc model on new X_pca data"
   ]
  },
  {
   "cell_type": "code",
   "execution_count": 100,
   "metadata": {},
   "outputs": [
    {
     "name": "stdout",
     "output_type": "stream",
     "text": [
      "Train Accurcay Score :  0.8094462540716613\n",
      "\n",
      "KFold Score :  0.8095025889143536\n",
      "\n",
      "Confusion Matrix\n",
      "[[ 23  25]\n",
      " [  1 104]]\n",
      "SVC(C=1.0, cache_size=200, class_weight=None, coef0=0.0,\n",
      "  decision_function_shape='ovr', degree=3, gamma='auto', kernel='linear',\n",
      "  max_iter=-1, probability=False, random_state=None, shrinking=True,\n",
      "  tol=0.001, verbose=False)\n"
     ]
    }
   ],
   "source": [
    "svc = SVC(kernel = 'linear')\n",
    "X_pca_df = pd.DataFrame(X_pca)\n",
    "model_classifier(svc, X_pca_df, y)"
   ]
  },
  {
   "cell_type": "markdown",
   "metadata": {},
   "source": [
    "#### Gradient Boosting Classifier"
   ]
  },
  {
   "cell_type": "code",
   "execution_count": 87,
   "metadata": {},
   "outputs": [
    {
     "name": "stdout",
     "output_type": "stream",
     "text": [
      "Train Accurcay Score :  0.8876221498371335\n",
      "\n",
      "KFold Score :  0.7948285374755963\n",
      "\n",
      "Confusion Matrix\n",
      "[[24 24]\n",
      " [11 94]]\n"
     ]
    },
    {
     "ename": "TypeError",
     "evalue": "fit_transform() missing 1 required positional argument: 'y'",
     "output_type": "error",
     "traceback": [
      "\u001b[0;31m---------------------------------------------------------------------------\u001b[0m",
      "\u001b[0;31mTypeError\u001b[0m                                 Traceback (most recent call last)",
      "\u001b[0;32m<ipython-input-87-4f29e034802e>\u001b[0m in \u001b[0;36m<module>\u001b[0;34m()\u001b[0m\n\u001b[1;32m      1\u001b[0m \u001b[0mgbclassifier\u001b[0m \u001b[0;34m=\u001b[0m \u001b[0mGradientBoostingClassifier\u001b[0m\u001b[0;34m(\u001b[0m\u001b[0;34m)\u001b[0m\u001b[0;34m\u001b[0m\u001b[0m\n\u001b[0;32m----> 2\u001b[0;31m \u001b[0mmodel_classifier\u001b[0m\u001b[0;34m(\u001b[0m\u001b[0mgbclassifier\u001b[0m\u001b[0;34m,\u001b[0m \u001b[0mX\u001b[0m\u001b[0;34m,\u001b[0m \u001b[0my\u001b[0m\u001b[0;34m)\u001b[0m\u001b[0;34m\u001b[0m\u001b[0m\n\u001b[0m",
      "\u001b[0;32m<ipython-input-86-3fb28990f21f>\u001b[0m in \u001b[0;36mmodel_classifier\u001b[0;34m(model, X, y)\u001b[0m\n\u001b[1;32m     31\u001b[0m \u001b[0;34m\u001b[0m\u001b[0m\n\u001b[1;32m     32\u001b[0m     \u001b[0;31m# Print the ROC-AUC score\u001b[0m\u001b[0;34m\u001b[0m\u001b[0;34m\u001b[0m\u001b[0m\n\u001b[0;32m---> 33\u001b[0;31m     print('ROC-AUC Score ',roc_auc_score(LabelEncoder.fit_transform(y.iloc[test_index,:].values)\n\u001b[0m\u001b[1;32m     34\u001b[0m                                          , model.decision_function(X.iloc[test_index,:])))    \n",
      "\u001b[0;31mTypeError\u001b[0m: fit_transform() missing 1 required positional argument: 'y'"
     ]
    }
   ],
   "source": [
    "gbclassifier = GradientBoostingClassifier()\n",
    "model_classifier(gbclassifier, X, y)"
   ]
  },
  {
   "cell_type": "markdown",
   "metadata": {},
   "source": [
    "#### Adaptive Boosting Classifier"
   ]
  },
  {
   "cell_type": "code",
   "execution_count": 56,
   "metadata": {},
   "outputs": [
    {
     "name": "stdout",
     "output_type": "stream",
     "text": [
      "Train Accurcay Score :  0.8648208469055375\n",
      "\n",
      "KFold Score :  0.8013114336643749\n",
      "\n",
      "Confusion Matrix\n",
      "[[27 21]\n",
      " [13 92]]\n"
     ]
    }
   ],
   "source": [
    "abclassifier = AdaBoostClassifier()\n",
    "model_classifier(abclassifier, X, y)"
   ]
  },
  {
   "cell_type": "markdown",
   "metadata": {},
   "source": [
    "#### XGBoost Classifier"
   ]
  },
  {
   "cell_type": "code",
   "execution_count": 74,
   "metadata": {},
   "outputs": [
    {
     "name": "stdout",
     "output_type": "stream",
     "text": [
      "Train Accurcay Score :  0.8631921824104235\n",
      "\n",
      "KFold Score :  0.731294032764621\n",
      "\n",
      "Confusion Matrix\n",
      "[[31 17]\n",
      " [24 81]]\n"
     ]
    },
    {
     "name": "stderr",
     "output_type": "stream",
     "text": [
      "/home/sagar/.local/lib/python3.6/site-packages/sklearn/preprocessing/label.py:151: DeprecationWarning: The truth value of an empty array is ambiguous. Returning False, but in future this will result in an error. Use `array.size > 0` to check that an array is not empty.\n",
      "  if diff:\n",
      "/home/sagar/.local/lib/python3.6/site-packages/sklearn/preprocessing/label.py:151: DeprecationWarning: The truth value of an empty array is ambiguous. Returning False, but in future this will result in an error. Use `array.size > 0` to check that an array is not empty.\n",
      "  if diff:\n",
      "/home/sagar/.local/lib/python3.6/site-packages/sklearn/preprocessing/label.py:151: DeprecationWarning: The truth value of an empty array is ambiguous. Returning False, but in future this will result in an error. Use `array.size > 0` to check that an array is not empty.\n",
      "  if diff:\n",
      "/home/sagar/.local/lib/python3.6/site-packages/sklearn/preprocessing/label.py:151: DeprecationWarning: The truth value of an empty array is ambiguous. Returning False, but in future this will result in an error. Use `array.size > 0` to check that an array is not empty.\n",
      "  if diff:\n",
      "/home/sagar/.local/lib/python3.6/site-packages/sklearn/preprocessing/label.py:151: DeprecationWarning: The truth value of an empty array is ambiguous. Returning False, but in future this will result in an error. Use `array.size > 0` to check that an array is not empty.\n",
      "  if diff:\n"
     ]
    }
   ],
   "source": [
    "xgb = XGBClassifier(objective= 'binary:logistic', eval_metric = 'auc', scale_pos_weight=0.35, early_stopping_rounds=100)\n",
    "model_classifier(xgb, X, y)"
   ]
  },
  {
   "cell_type": "markdown",
   "metadata": {},
   "source": [
    "### Conclusion\n",
    "The Naive bayes and xgboost are performing very well."
   ]
  },
  {
   "cell_type": "code",
   "execution_count": 40,
   "metadata": {},
   "outputs": [],
   "source": [
    "import mglearn"
   ]
  },
  {
   "cell_type": "code",
   "execution_count": 43,
   "metadata": {},
   "outputs": [
    {
     "data": {
      "text/plain": [
       "['__builtins__',\n",
       " '__cached__',\n",
       " '__doc__',\n",
       " '__file__',\n",
       " '__loader__',\n",
       " '__name__',\n",
       " '__package__',\n",
       " '__spec__',\n",
       " 'np',\n",
       " 'plot_cross_validation',\n",
       " 'plot_group_kfold',\n",
       " 'plot_shuffle_split',\n",
       " 'plot_stratified_cross_validation',\n",
       " 'plot_threefold_split',\n",
       " 'plt']"
      ]
     },
     "execution_count": 43,
     "metadata": {},
     "output_type": "execute_result"
    }
   ],
   "source": [
    "dir(mglearn.plot_cross_validation)"
   ]
  },
  {
   "cell_type": "code",
   "execution_count": 51,
   "metadata": {},
   "outputs": [
    {
     "data": {
      "image/png": "[encoded data removed]",
      "text/plain": [
       "<matplotlib.figure.Figure at 0x7f8db663efd0>"
      ]
     },
     "metadata": {},
     "output_type": "display_data"
    }
   ],
   "source": [
    "mglearn.plot_knn_classification.plot_knn_classification(n_neighbors= 5)"
   ]
  },
  {
   "cell_type": "code",
   "execution_count": null,
   "metadata": {},
   "outputs": [],
   "source": []
  }
 ],
 "metadata": {
  "kernelspec": {
   "display_name": "Python 3",
   "language": "python",
   "name": "python3"
  },
  "language_info": {
   "codemirror_mode": {
    "name": "ipython",
    "version": 3
   },
   "file_extension": ".py",
   "mimetype": "text/x-python",
   "name": "python",
   "nbconvert_exporter": "python",
   "pygments_lexer": "ipython3",
   "version": "3.6.3"
  }
 },
 "nbformat": 4,
 "nbformat_minor": 2
}
