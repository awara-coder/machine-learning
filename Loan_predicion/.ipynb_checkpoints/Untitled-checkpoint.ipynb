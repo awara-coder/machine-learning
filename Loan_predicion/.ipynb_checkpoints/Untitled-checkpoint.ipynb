{
 "cells": [
  {
   "cell_type": "code",
   "execution_count": 54,
   "metadata": {},
   "outputs": [],
   "source": [
    "import warnings\n",
    "warnings.filterwarnings('ignore')\n",
    "\n",
    "# Data processing and manipulation\n",
    "import numpy as np\n",
    "import pandas as pd\n",
    "\n",
    "# Data visualization\n",
    "import matplotlib as mpl\n",
    "import matplotlib.pyplot as plt\n",
    "import matplotlib.pylab as plb\n",
    "import seaborn as sns\n",
    "\n",
    "# Configure visualization\n",
    "%matplotlib inline\n",
    "plb.rcParams['figure.figsize'] = 10, 8\n",
    "mpl.style.use('ggplot')\n",
    "sns.set_style('white')\n",
    "\n",
    "# Models\n",
    "from sklearn.linear_model import LogisticRegression\n",
    "from sklearn.tree import DecisionTreeClassifier\n",
    "from sklearn.svm import SVC\n",
    "from sklearn.ensemble import RandomForestClassifier, GradientBoostingClassifier, AdaBoostClassifier\n",
    "from xgboost import XGBClassifier\n",
    "from sklearn.naive_bayes import GaussianNB\n",
    "from sklearn.neighbors import KNeighborsClassifier\n",
    "\n",
    "# Accuracy Metrics\n",
    "from sklearn.metrics import accuracy_score\n",
    "from sklearn.model_selection import KFold\n",
    "from sklearn.metrics import confusion_matrix, roc_curve, roc_auc_score"
   ]
  },
  {
   "cell_type": "code",
   "execution_count": 2,
   "metadata": {},
   "outputs": [
    {
     "name": "stdout",
     "output_type": "stream",
     "text": [
      "        ApplicantIncome  CoapplicantIncome  Credit_History Dependents  \\\n",
      "count        981.000000         981.000000      902.000000        956   \n",
      "unique              NaN                NaN             NaN          4   \n",
      "top                 NaN                NaN             NaN          0   \n",
      "freq                NaN                NaN             NaN        545   \n",
      "mean        5179.795107        1601.916330        0.835920        NaN   \n",
      "std         5695.104533        2718.772806        0.370553        NaN   \n",
      "min            0.000000           0.000000        0.000000        NaN   \n",
      "25%         2875.000000           0.000000        1.000000        NaN   \n",
      "50%         3800.000000        1110.000000        1.000000        NaN   \n",
      "75%         5516.000000        2365.000000        1.000000        NaN   \n",
      "max        81000.000000       41667.000000        1.000000        NaN   \n",
      "\n",
      "       Education Gender  LoanAmount  Loan_Amount_Term   Loan_ID Loan_Status  \\\n",
      "count        981    957  954.000000        961.000000       981         614   \n",
      "unique         2      2         NaN               NaN       981           2   \n",
      "top     Graduate   Male         NaN               NaN  LP002051           Y   \n",
      "freq         763    775         NaN               NaN         1         422   \n",
      "mean         NaN    NaN  142.511530        342.201873       NaN         NaN   \n",
      "std          NaN    NaN   77.421743         65.100602       NaN         NaN   \n",
      "min          NaN    NaN    9.000000          6.000000       NaN         NaN   \n",
      "25%          NaN    NaN  100.000000        360.000000       NaN         NaN   \n",
      "50%          NaN    NaN  126.000000        360.000000       NaN         NaN   \n",
      "75%          NaN    NaN  162.000000        360.000000       NaN         NaN   \n",
      "max          NaN    NaN  700.000000        480.000000       NaN         NaN   \n",
      "\n",
      "       Married Property_Area Self_Employed  \n",
      "count      978           981           926  \n",
      "unique       2             3             2  \n",
      "top        Yes     Semiurban            No  \n",
      "freq       631           349           807  \n",
      "mean       NaN           NaN           NaN  \n",
      "std        NaN           NaN           NaN  \n",
      "min        NaN           NaN           NaN  \n",
      "25%        NaN           NaN           NaN  \n",
      "50%        NaN           NaN           NaN  \n",
      "75%        NaN           NaN           NaN  \n",
      "max        NaN           NaN           NaN  \n"
     ]
    }
   ],
   "source": [
    "train = pd.read_csv('train.csv')\n",
    "test = pd.read_csv('test.csv')\n",
    "full = pd.concat([train,test], axis = 0)\n",
    "print(full.describe(include = [int, float, object]))"
   ]
  },
  {
   "cell_type": "code",
   "execution_count": 3,
   "metadata": {},
   "outputs": [
    {
     "data": {
      "text/html": [
       "<div>\n",
       "<style scoped>\n",
       "    .dataframe tbody tr th:only-of-type {\n",
       "        vertical-align: middle;\n",
       "    }\n",
       "\n",
       "    .dataframe tbody tr th {\n",
       "        vertical-align: top;\n",
       "    }\n",
       "\n",
       "    .dataframe thead th {\n",
       "        text-align: right;\n",
       "    }\n",
       "</style>\n",
       "<table border=\"1\" class=\"dataframe\">\n",
       "  <thead>\n",
       "    <tr style=\"text-align: right;\">\n",
       "      <th></th>\n",
       "      <th>ApplicantIncome</th>\n",
       "      <th>CoapplicantIncome</th>\n",
       "      <th>Credit_History</th>\n",
       "      <th>Dependents</th>\n",
       "      <th>Education</th>\n",
       "      <th>Gender</th>\n",
       "      <th>LoanAmount</th>\n",
       "      <th>Loan_Amount_Term</th>\n",
       "      <th>Loan_ID</th>\n",
       "      <th>Loan_Status</th>\n",
       "      <th>Married</th>\n",
       "      <th>Property_Area</th>\n",
       "      <th>Self_Employed</th>\n",
       "    </tr>\n",
       "  </thead>\n",
       "  <tbody>\n",
       "    <tr>\n",
       "      <th>0</th>\n",
       "      <td>5849</td>\n",
       "      <td>0.0</td>\n",
       "      <td>1.0</td>\n",
       "      <td>0</td>\n",
       "      <td>Graduate</td>\n",
       "      <td>Male</td>\n",
       "      <td>NaN</td>\n",
       "      <td>360.0</td>\n",
       "      <td>LP001002</td>\n",
       "      <td>Y</td>\n",
       "      <td>No</td>\n",
       "      <td>Urban</td>\n",
       "      <td>No</td>\n",
       "    </tr>\n",
       "    <tr>\n",
       "      <th>1</th>\n",
       "      <td>4583</td>\n",
       "      <td>1508.0</td>\n",
       "      <td>1.0</td>\n",
       "      <td>1</td>\n",
       "      <td>Graduate</td>\n",
       "      <td>Male</td>\n",
       "      <td>128.0</td>\n",
       "      <td>360.0</td>\n",
       "      <td>LP001003</td>\n",
       "      <td>N</td>\n",
       "      <td>Yes</td>\n",
       "      <td>Rural</td>\n",
       "      <td>No</td>\n",
       "    </tr>\n",
       "    <tr>\n",
       "      <th>2</th>\n",
       "      <td>3000</td>\n",
       "      <td>0.0</td>\n",
       "      <td>1.0</td>\n",
       "      <td>0</td>\n",
       "      <td>Graduate</td>\n",
       "      <td>Male</td>\n",
       "      <td>66.0</td>\n",
       "      <td>360.0</td>\n",
       "      <td>LP001005</td>\n",
       "      <td>Y</td>\n",
       "      <td>Yes</td>\n",
       "      <td>Urban</td>\n",
       "      <td>Yes</td>\n",
       "    </tr>\n",
       "    <tr>\n",
       "      <th>3</th>\n",
       "      <td>2583</td>\n",
       "      <td>2358.0</td>\n",
       "      <td>1.0</td>\n",
       "      <td>0</td>\n",
       "      <td>Not Graduate</td>\n",
       "      <td>Male</td>\n",
       "      <td>120.0</td>\n",
       "      <td>360.0</td>\n",
       "      <td>LP001006</td>\n",
       "      <td>Y</td>\n",
       "      <td>Yes</td>\n",
       "      <td>Urban</td>\n",
       "      <td>No</td>\n",
       "    </tr>\n",
       "    <tr>\n",
       "      <th>4</th>\n",
       "      <td>6000</td>\n",
       "      <td>0.0</td>\n",
       "      <td>1.0</td>\n",
       "      <td>0</td>\n",
       "      <td>Graduate</td>\n",
       "      <td>Male</td>\n",
       "      <td>141.0</td>\n",
       "      <td>360.0</td>\n",
       "      <td>LP001008</td>\n",
       "      <td>Y</td>\n",
       "      <td>No</td>\n",
       "      <td>Urban</td>\n",
       "      <td>No</td>\n",
       "    </tr>\n",
       "  </tbody>\n",
       "</table>\n",
       "</div>"
      ],
      "text/plain": [
       "   ApplicantIncome  CoapplicantIncome  Credit_History Dependents  \\\n",
       "0             5849                0.0             1.0          0   \n",
       "1             4583             1508.0             1.0          1   \n",
       "2             3000                0.0             1.0          0   \n",
       "3             2583             2358.0             1.0          0   \n",
       "4             6000                0.0             1.0          0   \n",
       "\n",
       "      Education Gender  LoanAmount  Loan_Amount_Term   Loan_ID Loan_Status  \\\n",
       "0      Graduate   Male         NaN             360.0  LP001002           Y   \n",
       "1      Graduate   Male       128.0             360.0  LP001003           N   \n",
       "2      Graduate   Male        66.0             360.0  LP001005           Y   \n",
       "3  Not Graduate   Male       120.0             360.0  LP001006           Y   \n",
       "4      Graduate   Male       141.0             360.0  LP001008           Y   \n",
       "\n",
       "  Married Property_Area Self_Employed  \n",
       "0      No         Urban            No  \n",
       "1     Yes         Rural            No  \n",
       "2     Yes         Urban           Yes  \n",
       "3     Yes         Urban            No  \n",
       "4      No         Urban            No  "
      ]
     },
     "execution_count": 3,
     "metadata": {},
     "output_type": "execute_result"
    }
   ],
   "source": [
    "full.head()"
   ]
  },
  {
   "cell_type": "code",
   "execution_count": 4,
   "metadata": {},
   "outputs": [
    {
     "name": "stdout",
     "output_type": "stream",
     "text": [
      "<class 'pandas.core.frame.DataFrame'>\n",
      "RangeIndex: 614 entries, 0 to 613\n",
      "Data columns (total 13 columns):\n",
      "Loan_ID              614 non-null object\n",
      "Gender               601 non-null object\n",
      "Married              611 non-null object\n",
      "Dependents           599 non-null object\n",
      "Education            614 non-null object\n",
      "Self_Employed        582 non-null object\n",
      "ApplicantIncome      614 non-null int64\n",
      "CoapplicantIncome    614 non-null float64\n",
      "LoanAmount           592 non-null float64\n",
      "Loan_Amount_Term     600 non-null float64\n",
      "Credit_History       564 non-null float64\n",
      "Property_Area        614 non-null object\n",
      "Loan_Status          614 non-null object\n",
      "dtypes: float64(4), int64(1), object(8)\n",
      "memory usage: 62.4+ KB\n",
      "None\n"
     ]
    }
   ],
   "source": [
    "print(train.info())"
   ]
  },
  {
   "cell_type": "code",
   "execution_count": 5,
   "metadata": {},
   "outputs": [
    {
     "data": {
      "text/plain": [
       "Index(['ApplicantIncome', 'CoapplicantIncome', 'Credit_History', 'Dependents',\n",
       "       'Education', 'Gender', 'LoanAmount', 'Loan_Amount_Term', 'Loan_ID',\n",
       "       'Loan_Status', 'Married', 'Property_Area', 'Self_Employed'],\n",
       "      dtype='object')"
      ]
     },
     "execution_count": 5,
     "metadata": {},
     "output_type": "execute_result"
    }
   ],
   "source": [
    "full.columns"
   ]
  },
  {
   "cell_type": "markdown",
   "metadata": {},
   "source": [
    "##### Imputing the quantitative variables with median values."
   ]
  },
  {
   "cell_type": "code",
   "execution_count": 6,
   "metadata": {},
   "outputs": [],
   "source": [
    "full.Loan_Amount_Term.fillna(full.Loan_Amount_Term.median(), inplace = True)\n",
    "full.LoanAmount.fillna(full.LoanAmount.median(), inplace = True)"
   ]
  },
  {
   "cell_type": "markdown",
   "metadata": {},
   "source": [
    "##### Imputing the categorical variables with most common response"
   ]
  },
  {
   "cell_type": "code",
   "execution_count": 7,
   "metadata": {},
   "outputs": [],
   "source": [
    "full.Gender.fillna('Male', inplace = True)\n",
    "full.Dependents.fillna('0', inplace = True)\n",
    "full.Credit_History.fillna(1, inplace = True)\n",
    "full.Self_Employed.fillna('No', inplace = True)\n",
    "full.Married.fillna('Yes', inplace = True)\n",
    "train = full.iloc[:614,:]\n",
    "test = full.iloc[614:, :]logistic"
   ]
  },
  {
   "cell_type": "markdown",
   "metadata": {},
   "source": [
    "## Feature Engineering"
   ]
  },
  {
   "cell_type": "code",
   "execution_count": 8,
   "metadata": {},
   "outputs": [
    {
     "data": {
      "text/html": [
       "<div>\n",
       "<style scoped>\n",
       "    .dataframe tbody tr th:only-of-type {\n",
       "        vertical-align: middle;\n",
       "    }\n",
       "\n",
       "    .dataframe tbody tr th {\n",
       "        vertical-align: top;\n",
       "    }\n",
       "\n",
       "    .dataframe thead th {\n",
       "        text-align: right;\n",
       "    }\n",
       "</style>\n",
       "<table border=\"1\" class=\"dataframe\">\n",
       "  <thead>\n",
       "    <tr style=\"text-align: right;\">\n",
       "      <th></th>\n",
       "      <th>ApplicantIncome</th>\n",
       "      <th>CoapplicantIncome</th>\n",
       "      <th>Credit_History</th>\n",
       "      <th>Dependents</th>\n",
       "      <th>Education</th>\n",
       "      <th>Gender</th>\n",
       "      <th>LoanAmount</th>\n",
       "      <th>Loan_Amount_Term</th>\n",
       "      <th>Loan_ID</th>\n",
       "      <th>Loan_Status</th>\n",
       "      <th>Married</th>\n",
       "      <th>Property_Area</th>\n",
       "      <th>Self_Employed</th>\n",
       "      <th>TotalIncome</th>\n",
       "      <th>IncomeDebtRatio</th>\n",
       "    </tr>\n",
       "  </thead>\n",
       "  <tbody>\n",
       "    <tr>\n",
       "      <th>0</th>\n",
       "      <td>5849</td>\n",
       "      <td>0.0</td>\n",
       "      <td>1.0</td>\n",
       "      <td>0</td>\n",
       "      <td>Graduate</td>\n",
       "      <td>Male</td>\n",
       "      <td>126.0</td>\n",
       "      <td>360.0</td>\n",
       "      <td>LP001002</td>\n",
       "      <td>Y</td>\n",
       "      <td>No</td>\n",
       "      <td>Urban</td>\n",
       "      <td>No</td>\n",
       "      <td>5849.0</td>\n",
       "      <td>46.420635</td>\n",
       "    </tr>\n",
       "    <tr>\n",
       "      <th>1</th>\n",
       "      <td>4583</td>\n",
       "      <td>1508.0</td>\n",
       "      <td>1.0</td>\n",
       "      <td>1</td>\n",
       "      <td>Graduate</td>\n",
       "      <td>Male</td>\n",
       "      <td>128.0</td>\n",
       "      <td>360.0</td>\n",
       "      <td>LP001003</td>\n",
       "      <td>N</td>\n",
       "      <td>Yes</td>\n",
       "      <td>Rural</td>\n",
       "      <td>No</td>\n",
       "      <td>6091.0</td>\n",
       "      <td>47.585938</td>\n",
       "    </tr>\n",
       "    <tr>\n",
       "      <th>2</th>\n",
       "      <td>3000</td>\n",
       "      <td>0.0</td>\n",
       "      <td>1.0</td>\n",
       "      <td>0</td>\n",
       "      <td>Graduate</td>\n",
       "      <td>Male</td>\n",
       "      <td>66.0</td>\n",
       "      <td>360.0</td>\n",
       "      <td>LP001005</td>\n",
       "      <td>Y</td>\n",
       "      <td>Yes</td>\n",
       "      <td>Urban</td>\n",
       "      <td>Yes</td>\n",
       "      <td>3000.0</td>\n",
       "      <td>45.454545</td>\n",
       "    </tr>\n",
       "    <tr>\n",
       "      <th>3</th>\n",
       "      <td>2583</td>\n",
       "      <td>2358.0</td>\n",
       "      <td>1.0</td>\n",
       "      <td>0</td>\n",
       "      <td>Not Graduate</td>\n",
       "      <td>Male</td>\n",
       "      <td>120.0</td>\n",
       "      <td>360.0</td>\n",
       "      <td>LP001006</td>\n",
       "      <td>Y</td>\n",
       "      <td>Yes</td>\n",
       "      <td>Urban</td>\n",
       "      <td>No</td>\n",
       "      <td>4941.0</td>\n",
       "      <td>41.175000</td>\n",
       "    </tr>\n",
       "    <tr>\n",
       "      <th>4</th>\n",
       "      <td>6000</td>\n",
       "      <td>0.0</td>\n",
       "      <td>1.0</td>\n",
       "      <td>0</td>\n",
       "      <td>Graduate</td>\n",
       "      <td>Male</td>\n",
       "      <td>141.0</td>\n",
       "      <td>360.0</td>\n",
       "      <td>LP001008</td>\n",
       "      <td>Y</td>\n",
       "      <td>No</td>\n",
       "      <td>Urban</td>\n",
       "      <td>No</td>\n",
       "      <td>6000.0</td>\n",
       "      <td>42.553191</td>\n",
       "    </tr>\n",
       "  </tbody>\n",
       "</table>\n",
       "</div>"
      ],
      "text/plain": [
       "   ApplicantIncome  CoapplicantIncome  Credit_History Dependents  \\\n",
       "0             5849                0.0             1.0          0   \n",
       "1             4583             1508.0             1.0          1   \n",
       "2             3000                0.0             1.0          0   \n",
       "3             2583             2358.0             1.0          0   \n",
       "4             6000                0.0             1.0          0   \n",
       "\n",
       "      Education Gender  LoanAmount  Loan_Amount_Term   Loan_ID Loan_Status  \\\n",
       "0      Graduate   Male       126.0             360.0  LP001002           Y   \n",
       "1      Graduate   Male       128.0             360.0  LP001003           N   \n",
       "2      Graduate   Male        66.0             360.0  LP001005           Y   \n",
       "3  Not Graduate   Male       120.0             360.0  LP001006           Y   \n",
       "4      Graduate   Male       141.0             360.0  LP001008           Y   \n",
       "\n",
       "  Married Property_Area Self_Employed  TotalIncome  IncomeDebtRatio  \n",
       "0      No         Urban            No       5849.0        46.420635  \n",
       "1     Yes         Rural            No       6091.0        47.585938  \n",
       "2     Yes         Urban           Yes       3000.0        45.454545  \n",
       "3     Yes         Urban            No       4941.0        41.175000  \n",
       "4      No         Urban            No       6000.0        42.553191  "
      ]
     },
     "execution_count": 8,
     "metadata": {},
     "output_type": "execute_result"
    }
   ],
   "source": [
    "full['TotalIncome'] = full.ApplicantIncome + full.CoapplicantIncome\n",
    "full['IncomeDebtRatio'] = full.TotalIncome / full.LoanAmount\n",
    "train = full.iloc[:614,:]\n",
    "test = full.iloc[614:, :]\n",
    "full.head()"
   ]
  },
  {
   "cell_type": "markdown",
   "metadata": {},
   "source": [
    "### Manually encoding the nominal and ordinal variables."
   ]
  },
  {
   "cell_type": "code",
   "execution_count": 103,
   "metadata": {},
   "outputs": [],
   "source": [
    "features = ['ApplicantIncome', 'CoapplicantIncome', 'Credit_History', 'Dependents',\n",
    "       'Education', 'LoanAmount', 'Loan_Amount_Term', \n",
    "       'Married', 'Property_Area', \n",
    "       'TotalIncome', 'IncomeDebtRatio']\n",
    "response = ['Loan_Status']\n",
    "X = pd.get_dummies(train[features])\n",
    "y = train[response]"
   ]
  },
  {
   "cell_type": "code",
   "execution_count": 105,
   "metadata": {},
   "outputs": [],
   "source": [
    "def model_classifier(model,X, y):\n",
    "    #Fitting the model with training data\n",
    "    model.fit(X, y)\n",
    "    \n",
    "    #Calculating the Train Accuracy:\n",
    "    train_predict = model.predict(X)\n",
    "    print('Train Accurcay Score : ', accuracy_score(y, train_predict))\n",
    "    \n",
    "    #Calculating the cross validation score\n",
    "    kfold = KFold(n_splits = 4)\n",
    "    scores = []\n",
    "    \n",
    "    # Performing K Fold Cross validation test.\n",
    "    for train_index, test_index in kfold.split(X):\n",
    "        model.fit(X.iloc[train_index,:], y.iloc[train_index,:])\n",
    "        prediction = model.predict(X.iloc[test_index, :])\n",
    "        scores.append(accuracy_score(y.iloc[test_index, :], prediction))\n",
    "    \n",
    "    #Printing the K Fold validation score\n",
    "    print('\\nKFold Score : ', np.mean(scores))\n",
    "    \n",
    "    # Since this is a classification problem \n",
    "    # Printing the confusion matrix\n",
    "    conf_mat = confusion_matrix(y.iloc[test_index,:], prediction)\n",
    "    print('\\nConfusion Matrix')\n",
    "    print(conf_mat)\n",
    "    print('\\nProportioanl confusion_matrix\\n')\n",
    "    print(conf_mat/conf_mat[:].sum())    \n",
    "    \n",
    "    # Print the ROC-AUC score\n",
    "    # roc_auc_score(y.iloc[test_index,:], prediction)\n",
    "    "
   ]
  },
  {
   "cell_type": "markdown",
   "metadata": {},
   "source": [
    "### Trying different Classification Models."
   ]
  },
  {
   "cell_type": "markdown",
   "metadata": {},
   "source": [
    "#### Random Forest Classifier"
   ]
  },
  {
   "cell_type": "code",
   "execution_count": 106,
   "metadata": {},
   "outputs": [
    {
     "name": "stdout",
     "output_type": "stream",
     "text": [
      "Train Accurcay Score :  0.990228013029316\n",
      "\n",
      "KFold Score :  0.767156862745098\n",
      "\n",
      "Confusion Matrix\n",
      "[[28 20]\n",
      " [14 91]]\n",
      "\n",
      "Proportioanl confusion_matrix\n",
      "\n",
      "[[0.18300654 0.13071895]\n",
      " [0.09150327 0.59477124]]\n"
     ]
    }
   ],
   "source": [
    "randomforest = RandomForestClassifier()\n",
    "model_classifier(randomforest, X, y)"
   ]
  },
  {
   "cell_type": "markdown",
   "metadata": {},
   "source": [
    "#### Logistic Regression"
   ]
  },
  {
   "cell_type": "code",
   "execution_count": 67,
   "metadata": {},
   "outputs": [
    {
     "name": "stdout",
     "output_type": "stream",
     "text": [
      "Train Accurcay Score :  0.8110749185667753\n",
      "\n",
      "KFold Score :  0.7997623291740938\n",
      "\n",
      "Confusion Matrix\n",
      "[[ 25  23]\n",
      " [  4 101]]\n"
     ]
    }
   ],
   "source": [
    "logistic = LogisticRegression()\n",
    "model_classifier(logistic, X, y)"
   ]
  },
  {
   "cell_type": "markdown",
   "metadata": {},
   "source": [
    "#### Support Vector Classifier"
   ]
  },
  {
   "cell_type": "code",
   "execution_count": 68,
   "metadata": {},
   "outputs": [
    {
     "name": "stdout",
     "output_type": "stream",
     "text": [
      "Train Accurcay Score :  1.0\n",
      "\n",
      "KFold Score :  0.69058229352347\n",
      "\n",
      "Confusion Matrix\n",
      "[[  1  47]\n",
      " [  0 105]]\n"
     ]
    }
   ],
   "source": [
    "svc = SVC()\n",
    "model_classifier(svc, X, y)"
   ]
  },
  {
   "cell_type": "markdown",
   "metadata": {},
   "source": [
    "#### Decision Tree Classifier"
   ]
  },
  {
   "cell_type": "code",
   "execution_count": 69,
   "metadata": {},
   "outputs": [
    {
     "name": "stdout",
     "output_type": "stream",
     "text": [
      "Train Accurcay Score :  1.0\n",
      "\n",
      "KFold Score :  0.685733384262796\n",
      "\n",
      "Confusion Matrix\n",
      "[[27 21]\n",
      " [26 79]]\n"
     ]
    }
   ],
   "source": [
    "decisiontree = DecisionTreeClassifier()\n",
    "model_classifier(decisiontree, X, y)"
   ]
  },
  {
   "cell_type": "markdown",
   "metadata": {},
   "source": [
    "#### Naive Bayes"
   ]
  },
  {
   "cell_type": "code",
   "execution_count": 70,
   "metadata": {},
   "outputs": [
    {
     "name": "stdout",
     "output_type": "stream",
     "text": [
      "Train Accurcay Score :  0.7947882736156352\n",
      "\n",
      "KFold Score :  0.7899477973007385\n",
      "\n",
      "Confusion Matrix\n",
      "[[27 21]\n",
      " [ 8 97]]\n"
     ]
    }
   ],
   "source": [
    "bayes = GaussianNB()\n",
    "model_classifier(bayes, X, y)"
   ]
  },
  {
   "cell_type": "markdown",
   "metadata": {},
   "source": [
    "#### K Nearest Neighbors"
   ]
  },
  {
   "cell_type": "code",
   "execution_count": 71,
   "metadata": {},
   "outputs": [
    {
     "name": "stdout",
     "output_type": "stream",
     "text": [
      "Train Accurcay Score :  0.6954397394136808\n",
      "\n",
      "KFold Score :  0.6661785926491809\n",
      "\n",
      "Confusion Matrix\n",
      "[[  5  43]\n",
      " [  5 100]]\n"
     ]
    }
   ],
   "source": [
    "kneighbor = KNeighborsClassifier(n_neighbors= 17)\n",
    "model_classifier(kneighbor, X, y)"
   ]
  },
  {
   "cell_type": "markdown",
   "metadata": {},
   "source": [
    "#### Gradient Boosting Classifier"
   ]
  },
  {
   "cell_type": "code",
   "execution_count": 72,
   "metadata": {},
   "outputs": [
    {
     "name": "stdout",
     "output_type": "stream",
     "text": [
      "Train Accurcay Score :  0.8990228013029316\n",
      "\n",
      "KFold Score :  0.7964837450131568\n",
      "\n",
      "Confusion Matrix\n",
      "[[26 22]\n",
      " [ 9 96]]\n"
     ]
    }
   ],
   "source": [
    "gbclassifier = GradientBoostingClassifier()\n",
    "model_classifier(gbclassifier, X, y)"
   ]
  },
  {
   "cell_type": "markdown",
   "metadata": {},
   "source": [
    "#### Adaptive Boosting Classifier"
   ]
  },
  {
   "cell_type": "code",
   "execution_count": 73,
   "metadata": {},
   "outputs": [
    {
     "name": "stdout",
     "output_type": "stream",
     "text": [
      "Train Accurcay Score :  0.8648208469055375\n",
      "\n",
      "KFold Score :  0.7980540701128935\n",
      "\n",
      "Confusion Matrix\n",
      "[[23 25]\n",
      " [ 9 96]]\n"
     ]
    }
   ],
   "source": [
    "abclassifier = AdaBoostClassifier()\n",
    "model_classifier(abclassifier, X, y)"
   ]
  },
  {
   "cell_type": "markdown",
   "metadata": {},
   "source": [
    "#### XGBoost Classifier"
   ]
  },
  {
   "cell_type": "code",
   "execution_count": 92,
   "metadata": {},
   "outputs": [
    {
     "name": "stdout",
     "output_type": "stream",
     "text": [
      "Train Accurcay Score :  0.8794788273615635\n",
      "\n",
      "KFold Score :  0.7426682794329853\n",
      "\n",
      "Confusion Matrix\n",
      "[[31 17]\n",
      " [23 82]]\n"
     ]
    }
   ],
   "source": [
    "xgb = XGBClassifier(objective= 'binary:logistic', eval_metric = 'auc', scale_pos_weight=0.35, early_stopping_rounds=100)\n",
    "model_classifier(xgb, X, y)"
   ]
  },
  {
   "cell_type": "code",
   "execution_count": null,
   "metadata": {},
   "outputs": [],
   "source": []
  }
 ],
 "metadata": {
  "kernelspec": {
   "display_name": "Python 3",
   "language": "python",
   "name": "python3"
  },
  "language_info": {
   "codemirror_mode": {
    "name": "ipython",
    "version": 3
   },
   "file_extension": ".py",
   "mimetype": "text/x-python",
   "name": "python",
   "nbconvert_exporter": "python",
   "pygments_lexer": "ipython3",
   "version": "3.6.3"
  }
 },
 "nbformat": 4,
 "nbformat_minor": 2
}
