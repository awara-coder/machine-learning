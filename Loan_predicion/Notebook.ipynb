{
  "nbformat": 4,
  "nbformat_minor": 0,
  "metadata": {
    "kernelspec": {
      "display_name": "Python 3",
      "language": "python",
      "name": "python3"
    },
    "language_info": {
      "codemirror_mode": {
        "name": "ipython",
        "version": 3
      },
      "file_extension": ".py",
      "mimetype": "text/x-python",
      "name": "python",
      "nbconvert_exporter": "python",
      "pygments_lexer": "ipython3",
      "version": "3.6.3"
    },
    "colab": {
      "name": "Untitled.ipynb",
      "version": "0.3.2",
      "provenance": [],
      "toc_visible": true
    }
  },
  "cells": [
    {
      "cell_type": "code",
      "metadata": {
        "id": "jRA8X1XGUK8E",
        "colab_type": "code",
        "colab": {}
      },
      "source": [
        "import warnings\n",
        "warnings.filterwarnings('ignore')\n",
        "\n",
        "# Data processing and manipulation\n",
        "import numpy as np\n",
        "import pandas as pd\n",
        "\n",
        "# Data visualization\n",
        "import matplotlib as mpl\n",
        "import matplotlib.pyplot as plt\n",
        "import matplotlib.pylab as plb\n",
        "import seaborn as sns\n",
        "\n",
        "# Configure visualization\n",
        "%matplotlib inline\n",
        "plb.rcParams['figure.figsize'] = 10, 8\n",
        "mpl.style.use('ggplot')\n",
        "sns.set_style('white')\n",
        "\n",
        "# Models\n",
        "from sklearn.linear_model import LogisticRegression\n",
        "from sklearn.tree import DecisionTreeClassifier\n",
        "from sklearn.svm import SVC\n",
        "from sklearn.ensemble import RandomForestClassifier, GradientBoostingClassifier, AdaBoostClassifier\n",
        "from xgboost import XGBClassifier\n",
        "from sklearn.naive_bayes import GaussianNB\n",
        "from sklearn.neighbors import KNeighborsClassifier\n",
        "\n",
        "# Accuracy Metrics\n",
        "from sklearn.metrics import accuracy_score\n",
        "from sklearn.model_selection import KFold, StratifiedKFold\n",
        "from sklearn.metrics import confusion_matrix, roc_curve, roc_auc_score\n",
        "\n",
        "from sklearn.preprocessing import LabelEncoder"
      ],
      "execution_count": 0,
      "outputs": []
    },
    {
      "cell_type": "code",
      "metadata": {
        "id": "17MWJ0b_UK8L",
        "colab_type": "code",
        "colab": {
          "base_uri": "https://localhost:8080/",
          "height": 255
        },
        "outputId": "582c4571-9b5f-4e3c-ef14-072f883789b8"
      },
      "source": [
        "train = pd.read_csv('train.csv')\n",
        "test = pd.read_csv('test.csv')\n",
        "full = pd.concat([train,test], axis = 0)\n",
        "print(full.describe(include = [int, float, object]))"
      ],
      "execution_count": 2,
      "outputs": [
        {
          "output_type": "stream",
          "text": [
            "        ApplicantIncome  CoapplicantIncome  ...  Property_Area Self_Employed\n",
            "count        981.000000         981.000000  ...            981           926\n",
            "unique              NaN                NaN  ...              3             2\n",
            "top                 NaN                NaN  ...      Semiurban            No\n",
            "freq                NaN                NaN  ...            349           807\n",
            "mean        5179.795107        1601.916330  ...            NaN           NaN\n",
            "std         5695.104533        2718.772806  ...            NaN           NaN\n",
            "min            0.000000           0.000000  ...            NaN           NaN\n",
            "25%         2875.000000           0.000000  ...            NaN           NaN\n",
            "50%         3800.000000        1110.000000  ...            NaN           NaN\n",
            "75%         5516.000000        2365.000000  ...            NaN           NaN\n",
            "max        81000.000000       41667.000000  ...            NaN           NaN\n",
            "\n",
            "[11 rows x 13 columns]\n"
          ],
          "name": "stdout"
        }
      ]
    },
    {
      "cell_type": "code",
      "metadata": {
        "id": "28S14VjRUK8Q",
        "colab_type": "code",
        "colab": {
          "base_uri": "https://localhost:8080/",
          "height": 241
        },
        "outputId": "1c107c4e-38f3-4818-bde0-0629fa7597ce"
      },
      "source": [
        "full.head()"
      ],
      "execution_count": 3,
      "outputs": [
        {
          "output_type": "execute_result",
          "data": {
            "text/html": [
              "<div>\n",
              "<style scoped>\n",
              "    .dataframe tbody tr th:only-of-type {\n",
              "        vertical-align: middle;\n",
              "    }\n",
              "\n",
              "    .dataframe tbody tr th {\n",
              "        vertical-align: top;\n",
              "    }\n",
              "\n",
              "    .dataframe thead th {\n",
              "        text-align: right;\n",
              "    }\n",
              "</style>\n",
              "<table border=\"1\" class=\"dataframe\">\n",
              "  <thead>\n",
              "    <tr style=\"text-align: right;\">\n",
              "      <th></th>\n",
              "      <th>ApplicantIncome</th>\n",
              "      <th>CoapplicantIncome</th>\n",
              "      <th>Credit_History</th>\n",
              "      <th>Dependents</th>\n",
              "      <th>Education</th>\n",
              "      <th>Gender</th>\n",
              "      <th>LoanAmount</th>\n",
              "      <th>Loan_Amount_Term</th>\n",
              "      <th>Loan_ID</th>\n",
              "      <th>Loan_Status</th>\n",
              "      <th>Married</th>\n",
              "      <th>Property_Area</th>\n",
              "      <th>Self_Employed</th>\n",
              "    </tr>\n",
              "  </thead>\n",
              "  <tbody>\n",
              "    <tr>\n",
              "      <th>0</th>\n",
              "      <td>5849</td>\n",
              "      <td>0.0</td>\n",
              "      <td>1.0</td>\n",
              "      <td>0</td>\n",
              "      <td>Graduate</td>\n",
              "      <td>Male</td>\n",
              "      <td>NaN</td>\n",
              "      <td>360.0</td>\n",
              "      <td>LP001002</td>\n",
              "      <td>Y</td>\n",
              "      <td>No</td>\n",
              "      <td>Urban</td>\n",
              "      <td>No</td>\n",
              "    </tr>\n",
              "    <tr>\n",
              "      <th>1</th>\n",
              "      <td>4583</td>\n",
              "      <td>1508.0</td>\n",
              "      <td>1.0</td>\n",
              "      <td>1</td>\n",
              "      <td>Graduate</td>\n",
              "      <td>Male</td>\n",
              "      <td>128.0</td>\n",
              "      <td>360.0</td>\n",
              "      <td>LP001003</td>\n",
              "      <td>N</td>\n",
              "      <td>Yes</td>\n",
              "      <td>Rural</td>\n",
              "      <td>No</td>\n",
              "    </tr>\n",
              "    <tr>\n",
              "      <th>2</th>\n",
              "      <td>3000</td>\n",
              "      <td>0.0</td>\n",
              "      <td>1.0</td>\n",
              "      <td>0</td>\n",
              "      <td>Graduate</td>\n",
              "      <td>Male</td>\n",
              "      <td>66.0</td>\n",
              "      <td>360.0</td>\n",
              "      <td>LP001005</td>\n",
              "      <td>Y</td>\n",
              "      <td>Yes</td>\n",
              "      <td>Urban</td>\n",
              "      <td>Yes</td>\n",
              "    </tr>\n",
              "    <tr>\n",
              "      <th>3</th>\n",
              "      <td>2583</td>\n",
              "      <td>2358.0</td>\n",
              "      <td>1.0</td>\n",
              "      <td>0</td>\n",
              "      <td>Not Graduate</td>\n",
              "      <td>Male</td>\n",
              "      <td>120.0</td>\n",
              "      <td>360.0</td>\n",
              "      <td>LP001006</td>\n",
              "      <td>Y</td>\n",
              "      <td>Yes</td>\n",
              "      <td>Urban</td>\n",
              "      <td>No</td>\n",
              "    </tr>\n",
              "    <tr>\n",
              "      <th>4</th>\n",
              "      <td>6000</td>\n",
              "      <td>0.0</td>\n",
              "      <td>1.0</td>\n",
              "      <td>0</td>\n",
              "      <td>Graduate</td>\n",
              "      <td>Male</td>\n",
              "      <td>141.0</td>\n",
              "      <td>360.0</td>\n",
              "      <td>LP001008</td>\n",
              "      <td>Y</td>\n",
              "      <td>No</td>\n",
              "      <td>Urban</td>\n",
              "      <td>No</td>\n",
              "    </tr>\n",
              "  </tbody>\n",
              "</table>\n",
              "</div>"
            ],
            "text/plain": [
              "   ApplicantIncome  CoapplicantIncome  ...  Property_Area Self_Employed\n",
              "0             5849                0.0  ...          Urban            No\n",
              "1             4583             1508.0  ...          Rural            No\n",
              "2             3000                0.0  ...          Urban           Yes\n",
              "3             2583             2358.0  ...          Urban            No\n",
              "4             6000                0.0  ...          Urban            No\n",
              "\n",
              "[5 rows x 13 columns]"
            ]
          },
          "metadata": {
            "tags": []
          },
          "execution_count": 3
        }
      ]
    },
    {
      "cell_type": "code",
      "metadata": {
        "id": "GauheDw7UK8V",
        "colab_type": "code",
        "colab": {
          "base_uri": "https://localhost:8080/",
          "height": 340
        },
        "outputId": "474cafe3-f04c-4d38-d23a-38f0e3b1445a"
      },
      "source": [
        "print(train.info())"
      ],
      "execution_count": 4,
      "outputs": [
        {
          "output_type": "stream",
          "text": [
            "<class 'pandas.core.frame.DataFrame'>\n",
            "RangeIndex: 614 entries, 0 to 613\n",
            "Data columns (total 13 columns):\n",
            "Loan_ID              614 non-null object\n",
            "Gender               601 non-null object\n",
            "Married              611 non-null object\n",
            "Dependents           599 non-null object\n",
            "Education            614 non-null object\n",
            "Self_Employed        582 non-null object\n",
            "ApplicantIncome      614 non-null int64\n",
            "CoapplicantIncome    614 non-null float64\n",
            "LoanAmount           592 non-null float64\n",
            "Loan_Amount_Term     600 non-null float64\n",
            "Credit_History       564 non-null float64\n",
            "Property_Area        614 non-null object\n",
            "Loan_Status          614 non-null object\n",
            "dtypes: float64(4), int64(1), object(8)\n",
            "memory usage: 62.4+ KB\n",
            "None\n"
          ],
          "name": "stdout"
        }
      ]
    },
    {
      "cell_type": "code",
      "metadata": {
        "id": "7DvkM4FtUK8Z",
        "colab_type": "code",
        "colab": {
          "base_uri": "https://localhost:8080/",
          "height": 486
        },
        "outputId": "f0f519e3-dfe1-4020-d541-e7b71abfffc1"
      },
      "source": [
        "status = full.Loan_Status\n",
        "status[status == 'Y'] = 2\n",
        "status[status == 'N'] = 5\n",
        "status[status == np.nan] = 999\n",
        "plt.scatter(x = full.ApplicantIncome, y = full.CoapplicantIncome, c = full.Loan_Status)\n",
        "plt.legend()\n",
        "plt.show()\n"
      ],
      "execution_count": 5,
      "outputs": [
        {
          "output_type": "display_data",
          "data": {
            "image/png": "[encoded data removed]",
            "text/plain": [
              "<Figure size 720x576 with 1 Axes>"
            ]
          },
          "metadata": {
            "tags": []
          }
        }
      ]
    },
    {
      "cell_type": "code",
      "metadata": {
        "id": "qeiQFzRUUK8d",
        "colab_type": "code",
        "colab": {
          "base_uri": "https://localhost:8080/",
          "height": 85
        },
        "outputId": "82a40b86-9b9a-4dcd-b014-8a39ba6ab0e2"
      },
      "source": [
        "full.columns"
      ],
      "execution_count": 6,
      "outputs": [
        {
          "output_type": "execute_result",
          "data": {
            "text/plain": [
              "Index(['ApplicantIncome', 'CoapplicantIncome', 'Credit_History', 'Dependents',\n",
              "       'Education', 'Gender', 'LoanAmount', 'Loan_Amount_Term', 'Loan_ID',\n",
              "       'Loan_Status', 'Married', 'Property_Area', 'Self_Employed'],\n",
              "      dtype='object')"
            ]
          },
          "metadata": {
            "tags": []
          },
          "execution_count": 6
        }
      ]
    },
    {
      "cell_type": "markdown",
      "metadata": {
        "id": "DkfuSz2bUK8h",
        "colab_type": "text"
      },
      "source": [
        "##### Imputing the quantitative variables with median values."
      ]
    },
    {
      "cell_type": "code",
      "metadata": {
        "id": "r73AW0enUK8i",
        "colab_type": "code",
        "colab": {}
      },
      "source": [
        "full.Loan_Amount_Term.fillna(full.Loan_Amount_Term.median(), inplace = True)\n",
        "full.LoanAmount.fillna(full.LoanAmount.median(), inplace = True)"
      ],
      "execution_count": 0,
      "outputs": []
    },
    {
      "cell_type": "markdown",
      "metadata": {
        "id": "YbyeAHZzUK8m",
        "colab_type": "text"
      },
      "source": [
        "### Manually encoding the nominal and ordinal variables."
      ]
    },
    {
      "cell_type": "markdown",
      "metadata": {
        "id": "C9wd03UMUK8o",
        "colab_type": "text"
      },
      "source": [
        "##### Imputing the categorical variables with most common response"
      ]
    },
    {
      "cell_type": "code",
      "metadata": {
        "id": "N1DlTiwmUK8q",
        "colab_type": "code",
        "colab": {}
      },
      "source": [
        "full.Gender.fillna('Male', inplace = True)\n",
        "full.Dependents.fillna('0', inplace = True)\n",
        "full.Credit_History.fillna(1, inplace = True)\n",
        "full.Self_Employed.fillna('No', inplace = True)\n",
        "full.Married.fillna('Yes', inplace = True)\n",
        "train = full.iloc[:614,:]\n",
        "test = full.iloc[614:, :]"
      ],
      "execution_count": 0,
      "outputs": []
    },
    {
      "cell_type": "markdown",
      "metadata": {
        "id": "pOvma7MrUK8u",
        "colab_type": "text"
      },
      "source": [
        "## Feature Engineering"
      ]
    },
    {
      "cell_type": "code",
      "metadata": {
        "id": "thRlAVAMUK8v",
        "colab_type": "code",
        "colab": {
          "base_uri": "https://localhost:8080/",
          "height": 241
        },
        "outputId": "618432bc-f445-4b1c-e3c0-0408418d6543"
      },
      "source": [
        "full['TotalIncome'] = full.ApplicantIncome + full.CoapplicantIncome\n",
        "full['IncomeDebtRatio'] = full.TotalIncome / full.LoanAmount\n",
        "train = full.iloc[:614,:]\n",
        "test = full.iloc[614:, :]\n",
        "full.head()"
      ],
      "execution_count": 9,
      "outputs": [
        {
          "output_type": "execute_result",
          "data": {
            "text/html": [
              "<div>\n",
              "<style scoped>\n",
              "    .dataframe tbody tr th:only-of-type {\n",
              "        vertical-align: middle;\n",
              "    }\n",
              "\n",
              "    .dataframe tbody tr th {\n",
              "        vertical-align: top;\n",
              "    }\n",
              "\n",
              "    .dataframe thead th {\n",
              "        text-align: right;\n",
              "    }\n",
              "</style>\n",
              "<table border=\"1\" class=\"dataframe\">\n",
              "  <thead>\n",
              "    <tr style=\"text-align: right;\">\n",
              "      <th></th>\n",
              "      <th>ApplicantIncome</th>\n",
              "      <th>CoapplicantIncome</th>\n",
              "      <th>Credit_History</th>\n",
              "      <th>Dependents</th>\n",
              "      <th>Education</th>\n",
              "      <th>Gender</th>\n",
              "      <th>LoanAmount</th>\n",
              "      <th>Loan_Amount_Term</th>\n",
              "      <th>Loan_ID</th>\n",
              "      <th>Loan_Status</th>\n",
              "      <th>Married</th>\n",
              "      <th>Property_Area</th>\n",
              "      <th>Self_Employed</th>\n",
              "      <th>TotalIncome</th>\n",
              "      <th>IncomeDebtRatio</th>\n",
              "    </tr>\n",
              "  </thead>\n",
              "  <tbody>\n",
              "    <tr>\n",
              "      <th>0</th>\n",
              "      <td>5849</td>\n",
              "      <td>0.0</td>\n",
              "      <td>1.0</td>\n",
              "      <td>0</td>\n",
              "      <td>Graduate</td>\n",
              "      <td>Male</td>\n",
              "      <td>126.0</td>\n",
              "      <td>360.0</td>\n",
              "      <td>LP001002</td>\n",
              "      <td>2</td>\n",
              "      <td>No</td>\n",
              "      <td>Urban</td>\n",
              "      <td>No</td>\n",
              "      <td>5849.0</td>\n",
              "      <td>46.420635</td>\n",
              "    </tr>\n",
              "    <tr>\n",
              "      <th>1</th>\n",
              "      <td>4583</td>\n",
              "      <td>1508.0</td>\n",
              "      <td>1.0</td>\n",
              "      <td>1</td>\n",
              "      <td>Graduate</td>\n",
              "      <td>Male</td>\n",
              "      <td>128.0</td>\n",
              "      <td>360.0</td>\n",
              "      <td>LP001003</td>\n",
              "      <td>5</td>\n",
              "      <td>Yes</td>\n",
              "      <td>Rural</td>\n",
              "      <td>No</td>\n",
              "      <td>6091.0</td>\n",
              "      <td>47.585938</td>\n",
              "    </tr>\n",
              "    <tr>\n",
              "      <th>2</th>\n",
              "      <td>3000</td>\n",
              "      <td>0.0</td>\n",
              "      <td>1.0</td>\n",
              "      <td>0</td>\n",
              "      <td>Graduate</td>\n",
              "      <td>Male</td>\n",
              "      <td>66.0</td>\n",
              "      <td>360.0</td>\n",
              "      <td>LP001005</td>\n",
              "      <td>2</td>\n",
              "      <td>Yes</td>\n",
              "      <td>Urban</td>\n",
              "      <td>Yes</td>\n",
              "      <td>3000.0</td>\n",
              "      <td>45.454545</td>\n",
              "    </tr>\n",
              "    <tr>\n",
              "      <th>3</th>\n",
              "      <td>2583</td>\n",
              "      <td>2358.0</td>\n",
              "      <td>1.0</td>\n",
              "      <td>0</td>\n",
              "      <td>Not Graduate</td>\n",
              "      <td>Male</td>\n",
              "      <td>120.0</td>\n",
              "      <td>360.0</td>\n",
              "      <td>LP001006</td>\n",
              "      <td>2</td>\n",
              "      <td>Yes</td>\n",
              "      <td>Urban</td>\n",
              "      <td>No</td>\n",
              "      <td>4941.0</td>\n",
              "      <td>41.175000</td>\n",
              "    </tr>\n",
              "    <tr>\n",
              "      <th>4</th>\n",
              "      <td>6000</td>\n",
              "      <td>0.0</td>\n",
              "      <td>1.0</td>\n",
              "      <td>0</td>\n",
              "      <td>Graduate</td>\n",
              "      <td>Male</td>\n",
              "      <td>141.0</td>\n",
              "      <td>360.0</td>\n",
              "      <td>LP001008</td>\n",
              "      <td>2</td>\n",
              "      <td>No</td>\n",
              "      <td>Urban</td>\n",
              "      <td>No</td>\n",
              "      <td>6000.0</td>\n",
              "      <td>42.553191</td>\n",
              "    </tr>\n",
              "  </tbody>\n",
              "</table>\n",
              "</div>"
            ],
            "text/plain": [
              "   ApplicantIncome  CoapplicantIncome  ...  TotalIncome IncomeDebtRatio\n",
              "0             5849                0.0  ...       5849.0       46.420635\n",
              "1             4583             1508.0  ...       6091.0       47.585938\n",
              "2             3000                0.0  ...       3000.0       45.454545\n",
              "3             2583             2358.0  ...       4941.0       41.175000\n",
              "4             6000                0.0  ...       6000.0       42.553191\n",
              "\n",
              "[5 rows x 15 columns]"
            ]
          },
          "metadata": {
            "tags": []
          },
          "execution_count": 9
        }
      ]
    },
    {
      "cell_type": "code",
      "metadata": {
        "id": "0OGFQznNUK81",
        "colab_type": "code",
        "colab": {}
      },
      "source": [
        "def model_classifier(model,X, y):\n",
        "    #Fitting the model with training data\n",
        "    model.fit(X, y)\n",
        "    \n",
        "    #Calculating the Train Accuracy:\n",
        "    train_predict = model.predict(X)\n",
        "    print('Train Accurcay Score : ', accuracy_score(y, train_predict))\n",
        "    \n",
        "    #Calculating the cross validation score\n",
        "    kfold = StratifiedKFold(n_splits = 4)\n",
        "    scores = []\n",
        "    \n",
        "    # Performing K Fold Cross validation test.\n",
        "    for train_index, test_index in kfold.split(X, y):\n",
        "        model.fit(X.iloc[train_index,:], y[train_index])\n",
        "        prediction = model.predict(X.iloc[test_index, :])\n",
        "        scores.append(accuracy_score(y[test_index], prediction))\n",
        "    \n",
        "    #Printing the K Fold validation score\n",
        "    print('\\nKFold Score : ', np.mean(scores))\n",
        "    \n",
        "    # Since this is a classification problem \n",
        "    # Printing the confusion matrix\n",
        "    conf_mat = confusion_matrix(y[test_index], prediction)\n",
        "    print('\\nConfusion Matrix')\n",
        "    print(conf_mat)\n",
        "    \n",
        "\n",
        "    # print('\\nProportioanl confusion_matrix\\n')\n",
        "    # print(conf_mat/conf_mat[:].sum())    \n",
        "    \n",
        "    # Print the ROC-AUC score\n",
        "    # y_test_series = \n",
        "    # label_encoder = LabelEncoder()\n",
        "    # label_encoder.fit(y_test_series)\n",
        "    # y_test_series = label_encoder.transform(y_test_series)\n",
        "    # pd.Series(y.iloc[test_index,:])\n",
        "    # print('ROC-AUC Score ',roc_auc_score(y_test_series\n",
        "    #                                    , model.decision_function(X.iloc[test_index,:])))    "
      ],
      "execution_count": 0,
      "outputs": []
    },
    {
      "cell_type": "code",
      "metadata": {
        "id": "9ZqXwhWWUK88",
        "colab_type": "code",
        "colab": {}
      },
      "source": [
        "features = ['Credit_History','Dependents',\n",
        "       'Education', 'LoanAmount', 'Loan_Amount_Term', \n",
        "       'Married', 'Property_Area', \n",
        "       'TotalIncome', 'IncomeDebtRatio']\n",
        "response = ['Loan_Status']\n",
        "X = pd.get_dummies(train[features])\n",
        "y = train[response]\n",
        "\n",
        "from sklearn.preprocessing import LabelEncoder\n",
        "encoder = LabelEncoder()\n",
        "y = encoder.fit_transform(y)\n",
        "# Unused features\n",
        "# 'ApplicantIncome', 'CoapplicantIncome',"
      ],
      "execution_count": 0,
      "outputs": []
    },
    {
      "cell_type": "markdown",
      "metadata": {
        "id": "JQ3zbr_MUK8_",
        "colab_type": "text"
      },
      "source": [
        "### Trying different Classification Models."
      ]
    },
    {
      "cell_type": "markdown",
      "metadata": {
        "id": "gYaH4_dMUK9A",
        "colab_type": "text"
      },
      "source": [
        "#### Logistic Regression"
      ]
    },
    {
      "cell_type": "code",
      "metadata": {
        "id": "9hy869AhUK9C",
        "colab_type": "code",
        "colab": {
          "base_uri": "https://localhost:8080/",
          "height": 136
        },
        "outputId": "20b58e4b-41a8-4a42-8c2e-9ee324d04850"
      },
      "source": [
        "logistic = LogisticRegression()\n",
        "model_classifier(logistic, X, y)"
      ],
      "execution_count": 12,
      "outputs": [
        {
          "output_type": "stream",
          "text": [
            "Train Accurcay Score :  0.8078175895765473\n",
            "\n",
            "KFold Score :  0.8062452253628725\n",
            "\n",
            "Confusion Matrix\n",
            "[[101   4]\n",
            " [ 23  25]]\n"
          ],
          "name": "stdout"
        }
      ]
    },
    {
      "cell_type": "markdown",
      "metadata": {
        "id": "2TAPkIcVUK9F",
        "colab_type": "text"
      },
      "source": [
        "#### Decision Tree Classifier"
      ]
    },
    {
      "cell_type": "code",
      "metadata": {
        "id": "2NvXeSNDUK9H",
        "colab_type": "code",
        "colab": {
          "base_uri": "https://localhost:8080/",
          "height": 136
        },
        "outputId": "09175fcd-6154-41a3-a3bb-437911a7e9ea"
      },
      "source": [
        "decisiontree = DecisionTreeClassifier()\n",
        "model_classifier(decisiontree, X, y)"
      ],
      "execution_count": 13,
      "outputs": [
        {
          "output_type": "stream",
          "text": [
            "Train Accurcay Score :  1.0\n",
            "\n",
            "KFold Score :  0.6922587216704863\n",
            "\n",
            "Confusion Matrix\n",
            "[[85 20]\n",
            " [28 20]]\n"
          ],
          "name": "stdout"
        }
      ]
    },
    {
      "cell_type": "markdown",
      "metadata": {
        "id": "j2PAKX-iUK9K",
        "colab_type": "text"
      },
      "source": [
        "#### Naive Bayes"
      ]
    },
    {
      "cell_type": "code",
      "metadata": {
        "scrolled": true,
        "id": "om0Me2cNUK9M",
        "colab_type": "code",
        "colab": {
          "base_uri": "https://localhost:8080/",
          "height": 136
        },
        "outputId": "02ac678e-e8e4-4f8b-bb5f-5987c7e61186"
      },
      "source": [
        "bayes = GaussianNB()\n",
        "model_classifier(bayes, X, y)"
      ],
      "execution_count": 14,
      "outputs": [
        {
          "output_type": "stream",
          "text": [
            "Train Accurcay Score :  0.8029315960912052\n",
            "\n",
            "KFold Score :  0.7866692131398014\n",
            "\n",
            "Confusion Matrix\n",
            "[[93 12]\n",
            " [20 28]]\n"
          ],
          "name": "stdout"
        }
      ]
    },
    {
      "cell_type": "markdown",
      "metadata": {
        "id": "nzxYnekMUK9Q",
        "colab_type": "text"
      },
      "source": [
        "#### K Nearest Neighbors \n"
      ]
    },
    {
      "cell_type": "code",
      "metadata": {
        "id": "8Dx4pwZUUK9R",
        "colab_type": "code",
        "colab": {
          "base_uri": "https://localhost:8080/",
          "height": 136
        },
        "outputId": "50b6b3cb-7878-4efb-8386-7153d29e08d1"
      },
      "source": [
        "knn = KNeighborsClassifier(n_neighbors = 1)\n",
        "model_classifier(knn, X, y)"
      ],
      "execution_count": 15,
      "outputs": [
        {
          "output_type": "stream",
          "text": [
            "Train Accurcay Score :  1.0\n",
            "\n",
            "KFold Score :  0.5651472710296239\n",
            "\n",
            "Confusion Matrix\n",
            "[[76 29]\n",
            " [31 17]]\n"
          ],
          "name": "stdout"
        }
      ]
    },
    {
      "cell_type": "markdown",
      "metadata": {
        "id": "Nn6ovgz8UK9V",
        "colab_type": "text"
      },
      "source": [
        "#### Random Forest Classifier"
      ]
    },
    {
      "cell_type": "code",
      "metadata": {
        "scrolled": true,
        "id": "NvSHig6KUK9W",
        "colab_type": "code",
        "colab": {
          "base_uri": "https://localhost:8080/",
          "height": 204
        },
        "outputId": "dfb3efef-1364-467c-d832-32c6636de123"
      },
      "source": [
        "randomforest = RandomForestClassifier()\n",
        "model_classifier(randomforest, X, y)\n",
        "randomforest.feature_importances_"
      ],
      "execution_count": 16,
      "outputs": [
        {
          "output_type": "stream",
          "text": [
            "Train Accurcay Score :  0.9853420195439739\n",
            "\n",
            "KFold Score :  0.7557401748578219\n",
            "\n",
            "Confusion Matrix\n",
            "[[92 13]\n",
            " [24 24]]\n"
          ],
          "name": "stdout"
        },
        {
          "output_type": "execute_result",
          "data": {
            "text/plain": [
              "array([0.18179657, 0.20382827, 0.05111399, 0.17207924, 0.20261608,\n",
              "       0.01411328, 0.02284401, 0.01823019, 0.01245585, 0.01159814,\n",
              "       0.01233438, 0.01524018, 0.01708362, 0.02243331, 0.02230695,\n",
              "       0.01992593])"
            ]
          },
          "metadata": {
            "tags": []
          },
          "execution_count": 16
        }
      ]
    },
    {
      "cell_type": "markdown",
      "metadata": {
        "id": "Ygo8yU0rUK9a",
        "colab_type": "text"
      },
      "source": [
        "#### Support Vector Classifier \n"
      ]
    },
    {
      "cell_type": "code",
      "metadata": {
        "id": "k8moWVezUK9b",
        "colab_type": "code",
        "colab": {
          "base_uri": "https://localhost:8080/",
          "height": 136
        },
        "outputId": "6ddd9211-48f7-4a22-ad5c-12b758452129"
      },
      "source": [
        "from sklearn.preprocessing import MinMaxScaler\n",
        "scaler = MinMaxScaler()\n",
        "X_scaled = scaler.fit_transform(X)\n",
        "X_scaled = pd.DataFrame(X_scaled, columns= X.columns)\n",
        "svclassifier = SVC()\n",
        "model_classifier(svclassifier, X_scaled, y)"
      ],
      "execution_count": 17,
      "outputs": [
        {
          "output_type": "stream",
          "text": [
            "Train Accurcay Score :  0.8094462540716613\n",
            "\n",
            "KFold Score :  0.8095025889143536\n",
            "\n",
            "Confusion Matrix\n",
            "[[104   1]\n",
            " [ 25  23]]\n"
          ],
          "name": "stdout"
        }
      ]
    },
    {
      "cell_type": "code",
      "metadata": {
        "id": "UnthLC4jUK9k",
        "colab_type": "code",
        "colab": {}
      },
      "source": [
        ""
      ],
      "execution_count": 0,
      "outputs": []
    },
    {
      "cell_type": "markdown",
      "metadata": {
        "id": "d_PSNK8YUK9q",
        "colab_type": "text"
      },
      "source": [
        "## Principal Component Analysis"
      ]
    },
    {
      "cell_type": "code",
      "metadata": {
        "id": "8MvMbTvhUK9r",
        "colab_type": "code",
        "colab": {
          "base_uri": "https://localhost:8080/",
          "height": 51
        },
        "outputId": "6fe11e47-7201-467f-99bf-71b3a2091b86"
      },
      "source": [
        "from sklearn.decomposition import PCA\n",
        "from sklearn.preprocessing import StandardScaler\n",
        "pca = PCA(n_components=16)\n",
        "X_normailesed = StandardScaler().fit_transform(X)\n",
        "pca.fit(X_normailesed)\n",
        "print(pca)\n",
        "X_pca = pca.transform(X_normailesed)"
      ],
      "execution_count": 18,
      "outputs": [
        {
          "output_type": "stream",
          "text": [
            "PCA(copy=True, iterated_power='auto', n_components=16, random_state=None,\n",
            "    svd_solver='auto', tol=0.0, whiten=False)\n"
          ],
          "name": "stdout"
        }
      ]
    },
    {
      "cell_type": "code",
      "metadata": {
        "scrolled": false,
        "id": "6sQ5nVQ5UK9v",
        "colab_type": "code",
        "colab": {
          "base_uri": "https://localhost:8080/",
          "height": 503
        },
        "outputId": "12729f28-2389-41e9-bb4b-4538092c5576"
      },
      "source": [
        "plt.figure(figsize= (8,8))\n",
        "plt.scatter(X_pca[:,4],X_pca[:,5], c = y, edgecolors='red')\n",
        "plt.xlabel('First Principal Component')\n",
        "plt.ylabel('Second Principal Component')\n",
        "plt.legend(['No', 'Yes'])\n",
        "plt.show()"
      ],
      "execution_count": 20,
      "outputs": [
        {
          "output_type": "display_data",
          "data": {
            "image/png": "[encoded data removed]",
            "text/plain": [
              "<Figure size 576x576 with 1 Axes>"
            ]
          },
          "metadata": {
            "tags": []
          }
        }
      ]
    },
    {
      "cell_type": "code",
      "metadata": {
        "id": "QEl-cEYpUK91",
        "colab_type": "code",
        "colab": {
          "base_uri": "https://localhost:8080/",
          "height": 1000
        },
        "outputId": "a4f830e4-b707-4557-dd5e-e096d99a5c5e"
      },
      "source": [
        "(pca.components_)"
      ],
      "execution_count": 21,
      "outputs": [
        {
          "output_type": "execute_result",
          "data": {
            "text/plain": [
              "array([[ 1.30922152e-04,  2.42362039e-01, -1.20268896e-01,\n",
              "         2.07892315e-01,  2.31087039e-02, -4.48540567e-01,\n",
              "         1.92526064e-01,  2.61742126e-01,  1.89191139e-01,\n",
              "         4.42850966e-02, -4.42850966e-02, -5.17126851e-01,\n",
              "         5.17126851e-01, -2.85344949e-02, -2.37310243e-03,\n",
              "         3.00514455e-02],\n",
              "       [ 7.78288911e-02,  2.60072954e-01,  6.57270602e-02,\n",
              "         3.40864687e-01,  2.15297789e-01,  9.75224998e-02,\n",
              "         2.14223097e-03, -1.12353879e-01, -2.59954927e-02,\n",
              "         5.91249036e-01, -5.91249036e-01,  1.05930581e-01,\n",
              "        -1.05930581e-01, -1.01097817e-01,  5.83854651e-02,\n",
              "         3.74881917e-02],\n",
              "       [-1.06829206e-01,  2.67011525e-01, -1.51893453e-01,\n",
              "         4.65663425e-01,  2.86842831e-01,  3.95408661e-02,\n",
              "        -4.62977487e-02, -1.78524724e-01,  2.31692455e-01,\n",
              "        -2.18199618e-01,  2.18199618e-01,  1.28439137e-01,\n",
              "        -1.28439137e-01,  3.58367788e-01, -4.77278592e-01,\n",
              "         1.46295528e-01],\n",
              "       [-1.42515041e-02,  2.35909141e-01,  1.84635373e-01,\n",
              "         1.50885375e-01, -7.52519253e-02,  1.01664381e-01,\n",
              "        -2.32210892e-01, -4.87231164e-02,  1.97194326e-01,\n",
              "        -6.10806085e-02,  6.10806085e-02, -3.70081269e-02,\n",
              "         3.70081269e-02,  3.26818034e-01,  3.85638689e-01,\n",
              "        -7.14408219e-01],\n",
              "       [-2.65244661e-03,  1.27281189e-02, -1.80121130e-01,\n",
              "         2.46652325e-01,  3.32063497e-01, -1.17857447e-01,\n",
              "         2.61532994e-01, -2.00221444e-01,  1.26570751e-01,\n",
              "        -2.25303165e-01,  2.25303165e-01,  1.46342340e-01,\n",
              "        -1.46342340e-01, -5.13115711e-01,  4.99845388e-01,\n",
              "        -1.99197861e-02],\n",
              "       [ 1.16627731e-01, -1.57418226e-01, -9.42655306e-02,\n",
              "         1.39783049e-01,  3.45201601e-01,  4.25735630e-01,\n",
              "        -6.22881233e-01,  1.29161623e-01, -9.32102780e-02,\n",
              "        -7.06134790e-02,  7.06134790e-02, -2.71982803e-01,\n",
              "         2.71982803e-01, -2.02412330e-01,  6.68524326e-02,\n",
              "         1.26741802e-01],\n",
              "       [ 3.66832333e-01, -3.63696920e-01, -2.38080377e-01,\n",
              "        -8.27889485e-03,  4.55132796e-01, -4.57486865e-02,\n",
              "         3.22074730e-01,  5.92183473e-03, -3.60676701e-01,\n",
              "         3.57791161e-02, -3.57791161e-02, -4.93905479e-02,\n",
              "         4.93905479e-02,  3.60251727e-01, -3.97229741e-02,\n",
              "        -3.07434112e-01],\n",
              "       [-4.81516729e-03, -2.93137606e-03,  1.08075612e-01,\n",
              "         1.17241888e-01,  1.70108378e-01, -3.55461121e-01,\n",
              "        -2.29468979e-01,  7.59587989e-01, -7.65619995e-02,\n",
              "        -2.41001937e-02,  2.41001937e-02,  3.00883787e-01,\n",
              "        -3.00883787e-01, -1.17290402e-03,  2.78232688e-02,\n",
              "        -2.76013545e-02],\n",
              "       [-2.49938783e-01, -4.15500299e-01, -4.28441839e-01,\n",
              "        -2.14729385e-01,  1.08395552e-01, -1.54934944e-01,\n",
              "        -2.01563031e-01, -3.94743409e-02,  6.01351771e-01,\n",
              "         1.95631712e-01, -1.95631712e-01,  5.34813597e-02,\n",
              "        -5.34813597e-02,  7.71981365e-02,  1.05401712e-02,\n",
              "        -8.55571794e-02],\n",
              "       [-8.73139002e-01, -1.21559279e-01,  1.13413138e-01,\n",
              "         6.90218359e-02,  2.05318991e-01,  7.28300601e-02,\n",
              "         1.27215802e-01,  2.65873163e-02, -3.37252456e-01,\n",
              "         2.97964388e-02, -2.97964388e-02, -8.73504987e-02,\n",
              "         8.73504987e-02,  4.53040650e-02,  3.67858705e-02,\n",
              "        -8.18136161e-02],\n",
              "       [-9.02950704e-02,  3.09403730e-01, -7.85844684e-01,\n",
              "         3.13281304e-02, -3.32236274e-01,  1.28753855e-01,\n",
              "        -6.03474616e-02,  1.32114204e-01, -3.25852692e-01,\n",
              "         1.43985349e-02, -1.43985349e-02,  6.80994415e-02,\n",
              "        -6.80994415e-02,  3.04142470e-04,  8.11483341e-02,\n",
              "        -8.41041726e-02],\n",
              "       [ 3.36829500e-02, -5.53443812e-01,  1.96079545e-02,\n",
              "         6.74491056e-01, -4.85151243e-01, -7.73981644e-03,\n",
              "         2.63905813e-02,  3.32252156e-03, -2.62424958e-02,\n",
              "         1.20763307e-02, -1.20763307e-02, -1.79277636e-03,\n",
              "         1.79277636e-03, -6.49801003e-03,  8.32331919e-03,\n",
              "        -2.31100499e-03],\n",
              "       [-4.89920793e-17,  2.36215604e-17, -7.99091325e-17,\n",
              "        -8.28375211e-18,  7.78216195e-17, -6.32039113e-01,\n",
              "        -4.77651243e-01, -4.75767986e-01, -3.54172740e-01,\n",
              "         2.81571328e-02,  2.81571328e-02,  1.47708847e-02,\n",
              "         1.47708847e-02,  7.60525831e-02,  8.12050941e-02,\n",
              "         7.86261695e-02],\n",
              "       [-3.40385152e-17,  1.13628740e-16,  9.45063118e-17,\n",
              "        -1.13428166e-16,  5.34768771e-17,  8.91195761e-02,\n",
              "         6.73503830e-02,  6.70848376e-02,  4.99395114e-02,\n",
              "         7.09818642e-02,  7.09818642e-02, -3.48332197e-03,\n",
              "        -3.48332197e-03,  5.49923514e-01,  5.87180460e-01,\n",
              "         5.68532687e-01],\n",
              "       [-8.23591690e-18,  9.94566490e-18,  1.54911382e-16,\n",
              "        -9.72448432e-17,  7.72519184e-17,  1.10120904e-02,\n",
              "         8.32217275e-03,  8.28936055e-03,  6.17079254e-03,\n",
              "         6.65023870e-01,  6.65023870e-01, -2.29356557e-01,\n",
              "        -2.29356557e-01, -5.57690729e-02, -5.95473898e-02,\n",
              "        -5.76562741e-02],\n",
              "       [ 6.53581641e-19,  1.76093829e-17,  7.94713356e-17,\n",
              "        -1.11978564e-16,  8.92659955e-17,  1.82022258e-02,\n",
              "         1.37559775e-02,  1.37017411e-02,  1.01998944e-02,\n",
              "         2.27842057e-01,  2.27842057e-01,  6.68704163e-01,\n",
              "         6.68704163e-01, -1.79433694e-02, -1.91590205e-02,\n",
              "        -1.85505652e-02]])"
            ]
          },
          "metadata": {
            "tags": []
          },
          "execution_count": 21
        }
      ]
    },
    {
      "cell_type": "markdown",
      "metadata": {
        "id": "SN0eea25UK96",
        "colab_type": "text"
      },
      "source": [
        "### Trying to train svc model on new X_pca data"
      ]
    },
    {
      "cell_type": "code",
      "metadata": {
        "id": "qIhk80FyUK97",
        "colab_type": "code",
        "colab": {
          "base_uri": "https://localhost:8080/",
          "height": 136
        },
        "outputId": "5efc1543-09dc-4dab-cb73-537b6d85e0e0"
      },
      "source": [
        "svc = SVC(kernel = 'linear')\n",
        "X_pca_df = pd.DataFrame(X_pca)\n",
        "model_classifier(svc, X_pca_df, y)"
      ],
      "execution_count": 22,
      "outputs": [
        {
          "output_type": "stream",
          "text": [
            "Train Accurcay Score :  0.8094462540716613\n",
            "\n",
            "KFold Score :  0.8095025889143536\n",
            "\n",
            "Confusion Matrix\n",
            "[[104   1]\n",
            " [ 25  23]]\n"
          ],
          "name": "stdout"
        }
      ]
    },
    {
      "cell_type": "markdown",
      "metadata": {
        "id": "_U3cns7rUK9-",
        "colab_type": "text"
      },
      "source": [
        "#### Gradient Boosting Classifier"
      ]
    },
    {
      "cell_type": "code",
      "metadata": {
        "id": "zV4W9wXFUK9_",
        "colab_type": "code",
        "colab": {
          "base_uri": "https://localhost:8080/",
          "height": 136
        },
        "outputId": "ba2e8962-0fe1-4ca5-8587-2e8675e7eed5"
      },
      "source": [
        "gbclassifier = GradientBoostingClassifier()\n",
        "model_classifier(gbclassifier, X, y)"
      ],
      "execution_count": 23,
      "outputs": [
        {
          "output_type": "stream",
          "text": [
            "Train Accurcay Score :  0.8876221498371335\n",
            "\n",
            "KFold Score :  0.7980965113318055\n",
            "\n",
            "Confusion Matrix\n",
            "[[94 11]\n",
            " [24 24]]\n"
          ],
          "name": "stdout"
        }
      ]
    },
    {
      "cell_type": "markdown",
      "metadata": {
        "id": "ITdPG-QCUK-C",
        "colab_type": "text"
      },
      "source": [
        "#### Adaptive Boosting Classifier"
      ]
    },
    {
      "cell_type": "code",
      "metadata": {
        "id": "v-VNTQjmUK-D",
        "colab_type": "code",
        "colab": {
          "base_uri": "https://localhost:8080/",
          "height": 136
        },
        "outputId": "e0524f15-91ea-4628-8b5f-8787b5b9eb33"
      },
      "source": [
        "abclassifier = AdaBoostClassifier()\n",
        "model_classifier(abclassifier, X, y)"
      ],
      "execution_count": 24,
      "outputs": [
        {
          "output_type": "stream",
          "text": [
            "Train Accurcay Score :  0.8648208469055375\n",
            "\n",
            "KFold Score :  0.8013114336643749\n",
            "\n",
            "Confusion Matrix\n",
            "[[92 13]\n",
            " [21 27]]\n"
          ],
          "name": "stdout"
        }
      ]
    },
    {
      "cell_type": "markdown",
      "metadata": {
        "id": "fXkB3hkeUK-J",
        "colab_type": "text"
      },
      "source": [
        "#### XGBoost Classifier"
      ]
    },
    {
      "cell_type": "code",
      "metadata": {
        "id": "TEq5khpKUK-K",
        "colab_type": "code",
        "colab": {
          "base_uri": "https://localhost:8080/",
          "height": 136
        },
        "outputId": "7f3b19b0-127a-457b-e9c5-a5447d4023b7"
      },
      "source": [
        "xgb = XGBClassifier(objective= 'binary:logistic', eval_metric = 'auc', scale_pos_weight=0.35, early_stopping_rounds=100)\n",
        "model_classifier(xgb, X, y)"
      ],
      "execution_count": 25,
      "outputs": [
        {
          "output_type": "stream",
          "text": [
            "Train Accurcay Score :  0.8420195439739414\n",
            "\n",
            "KFold Score :  0.8013644851880146\n",
            "\n",
            "Confusion Matrix\n",
            "[[103   2]\n",
            " [ 27  21]]\n"
          ],
          "name": "stdout"
        }
      ]
    },
    {
      "cell_type": "markdown",
      "metadata": {
        "id": "nJKDWYM_UK-O",
        "colab_type": "text"
      },
      "source": [
        "### Conclusion\n",
        "The Naive bayes and xgboost are performing very well."
      ]
    }
  ]
}